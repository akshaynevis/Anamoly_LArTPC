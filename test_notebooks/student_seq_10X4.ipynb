{
 "cells": [
  {
   "cell_type": "markdown",
   "id": "ff38dae8",
   "metadata": {},
   "source": [
    "SETUP"
   ]
  },
  {
   "cell_type": "code",
   "execution_count": 1,
   "id": "5e97f84b-dba5-4d32-a5ae-dbcbd135994c",
   "metadata": {},
   "outputs": [],
   "source": [
    "import numpy as np\n",
    "import tensorflow as tf\n",
    "\n",
    "from tensorflow import keras\n",
    "import qkeras\n",
    "from qkeras import *"
   ]
  },
  {
   "cell_type": "code",
   "execution_count": 2,
   "id": "c70ed6b0-798d-4f08-9e9a-26ccb0c4ff73",
   "metadata": {},
   "outputs": [],
   "source": [
    "X = np.load(\"/Users/jackcleeve/Desktop/bnb_WithWire_00_pureNu_batch_00_10X4.npy\")"
   ]
  },
  {
   "cell_type": "code",
   "execution_count": 3,
   "id": "183ee736-e707-44db-afb7-b5efde7ef163",
   "metadata": {},
   "outputs": [
    {
     "data": {
      "text/plain": [
       "(2560, 864, 64, 1)"
      ]
     },
     "execution_count": 3,
     "metadata": {},
     "output_type": "execute_result"
    }
   ],
   "source": [
    "X.shape"
   ]
  },
  {
   "cell_type": "code",
   "execution_count": 3,
   "id": "fc1fa3a1-aab5-425c-9902-4b6ff464ecc7",
   "metadata": {},
   "outputs": [],
   "source": [
    "from qkeras.utils import _add_supported_quantized_objects\n",
    "co = {}\n",
    "_add_supported_quantized_objects(co)"
   ]
  },
  {
   "cell_type": "code",
   "execution_count": 4,
   "id": "300ca51c-a055-40a8-94b1-7606ed653e4e",
   "metadata": {},
   "outputs": [
    {
     "name": "stderr",
     "output_type": "stream",
     "text": [
      "WARNING:absl:At this time, the v2.11+ optimizer `tf.keras.optimizers.RestoredOptimizer` runs slowly on M1/M2 Macs, please use the legacy Keras optimizer instead, located at `tf.keras.optimizers.legacy.RestoredOptimizer`.\n",
      "WARNING:absl:At this time, the v2.11+ optimizer `tf.keras.optimizers.Adam` runs slowly on M1/M2 Macs, please use the legacy Keras optimizer instead, located at `tf.keras.optimizers.legacy.Adam`.\n"
     ]
    },
    {
     "name": "stdout",
     "output_type": "stream",
     "text": [
      "WARNING:tensorflow:Looks like there is an object (perhaps variable or layer) that is shared between different layers/models. This may cause issues when restoring the variable values. Object: quantized_bits(16,4,1,alpha=1.0)\n"
     ]
    },
    {
     "name": "stderr",
     "output_type": "stream",
     "text": [
      "WARNING:tensorflow:Looks like there is an object (perhaps variable or layer) that is shared between different layers/models. This may cause issues when restoring the variable values. Object: quantized_bits(16,4,1,alpha=1.0)\n"
     ]
    },
    {
     "name": "stdout",
     "output_type": "stream",
     "text": [
      "WARNING:tensorflow:Looks like there is an object (perhaps variable or layer) that is shared between different layers/models. This may cause issues when restoring the variable values. Object: quantized_bits(16,4,1,alpha=1.0)\n"
     ]
    },
    {
     "name": "stderr",
     "output_type": "stream",
     "text": [
      "WARNING:tensorflow:Looks like there is an object (perhaps variable or layer) that is shared between different layers/models. This may cause issues when restoring the variable values. Object: quantized_bits(16,4,1,alpha=1.0)\n",
      "WARNING:absl:At this time, the v2.11+ optimizer `tf.keras.optimizers.RestoredOptimizer` runs slowly on M1/M2 Macs, please use the legacy Keras optimizer instead, located at `tf.keras.optimizers.legacy.RestoredOptimizer`.\n",
      "WARNING:absl:At this time, the v2.11+ optimizer `tf.keras.optimizers.Adam` runs slowly on M1/M2 Macs, please use the legacy Keras optimizer instead, located at `tf.keras.optimizers.legacy.Adam`.\n"
     ]
    }
   ],
   "source": [
    "#model = keras.models.load_model(\"noQDB_seq\", custom_objects=co)\n",
    "teacher = keras.models.load_model('/Users/jackcleeve/Desktop/Research/Karagiorgi-Lab/Cicada_Models/teacher_10X4')\n",
    "student_test = qkeras.utils.load_qmodel('/Users/jackcleeve/Desktop/Research/Karagiorgi-Lab/Cicada_Models/student_sequential_10X4')"
   ]
  },
  {
   "cell_type": "code",
   "execution_count": 6,
   "id": "c7d7ac35-9647-4f91-b77d-9738e40f502b",
   "metadata": {},
   "outputs": [
    {
     "name": "stdout",
     "output_type": "stream",
     "text": [
      "Model: \"teacher\"\n",
      "_________________________________________________________________\n",
      " Layer (type)                Output Shape              Param #   \n",
      "=================================================================\n",
      " teacher_inputs_ (InputLaye  [(None, 864, 64, 1)]      0         \n",
      " r)                                                              \n",
      "                                                                 \n",
      " teacher_reshape (Reshape)   (None, 864, 64, 1)        0         \n",
      "                                                                 \n",
      " teacher_conv2d_1 (Conv2D)   (None, 864, 64, 20)       200       \n",
      "                                                                 \n",
      " teacher_relu_1 (Activation  (None, 864, 64, 20)       0         \n",
      " )                                                               \n",
      "                                                                 \n",
      " teacher_pool_1 (AveragePoo  (None, 432, 32, 20)       0         \n",
      " ling2D)                                                         \n",
      "                                                                 \n",
      " teacher_conv2d_2 (Conv2D)   (None, 432, 32, 30)       5430      \n",
      "                                                                 \n",
      " teacher_relu_2 (Activation  (None, 432, 32, 30)       0         \n",
      " )                                                               \n",
      "                                                                 \n",
      " teacher_flatten (Flatten)   (None, 414720)            0         \n",
      "                                                                 \n",
      " teacher_latent (Dense)      (None, 80)                33177680  \n",
      "                                                                 \n",
      " teacher_dense (Dense)       (None, 414720)            33592320  \n",
      "                                                                 \n",
      " teacher_reshape2 (Reshape)  (None, 432, 32, 30)       0         \n",
      "                                                                 \n",
      " teacher_relu_3 (Activation  (None, 432, 32, 30)       0         \n",
      " )                                                               \n",
      "                                                                 \n",
      " teacher_conv2d_3 (Conv2D)   (None, 432, 32, 30)       8130      \n",
      "                                                                 \n",
      " teacher_relu_4 (Activation  (None, 432, 32, 30)       0         \n",
      " )                                                               \n",
      "                                                                 \n",
      " teacher_upsampling (UpSamp  (None, 864, 64, 30)       0         \n",
      " ling2D)                                                         \n",
      "                                                                 \n",
      " teacher_conv2d_4 (Conv2D)   (None, 864, 64, 20)       5420      \n",
      "                                                                 \n",
      " teacher_relu_5 (Activation  (None, 864, 64, 20)       0         \n",
      " )                                                               \n",
      "                                                                 \n",
      " teacher_outputs (Conv2D)    (None, 864, 64, 1)        181       \n",
      "                                                                 \n",
      "=================================================================\n",
      "Total params: 66789361 (254.78 MB)\n",
      "Trainable params: 66789361 (254.78 MB)\n",
      "Non-trainable params: 0 (0.00 Byte)\n",
      "_________________________________________________________________\n"
     ]
    }
   ],
   "source": [
    "teacher.summary()"
   ]
  },
  {
   "cell_type": "code",
   "execution_count": 7,
   "id": "e7955fa1",
   "metadata": {},
   "outputs": [
    {
     "name": "stdout",
     "output_type": "stream",
     "text": [
      "Model: \"cicada-v2-seq\"\n",
      "_________________________________________________________________\n",
      " Layer (type)                Output Shape              Param #   \n",
      "=================================================================\n",
      " reshape (Reshape)           (None, 864, 64, 1)        0         \n",
      "                                                                 \n",
      " conv (QConv2D)              (None, 432, 32, 4)        16        \n",
      "                                                                 \n",
      " relu0 (QActivation)         (None, 432, 32, 4)        0         \n",
      "                                                                 \n",
      " flatten (Flatten)           (None, 55296)             0         \n",
      "                                                                 \n",
      " dropout (Dropout)           (None, 55296)             0         \n",
      "                                                                 \n",
      " dense1 (QDenseBatchnorm)    (None, 16)                884817    \n",
      "                                                                 \n",
      " relu1 (QActivation)         (None, 16)                0         \n",
      "                                                                 \n",
      " dropout_1 (Dropout)         (None, 16)                0         \n",
      "                                                                 \n",
      " dense2 (QDense)             (None, 1)                 16        \n",
      "                                                                 \n",
      " outputs (QActivation)       (None, 1)                 0         \n",
      "                                                                 \n",
      "=================================================================\n",
      "Total params: 884849 (3.38 MB)\n",
      "Trainable params: 884816 (3.38 MB)\n",
      "Non-trainable params: 33 (136.00 Byte)\n",
      "_________________________________________________________________\n"
     ]
    }
   ],
   "source": [
    "student_test.summary()"
   ]
  },
  {
   "cell_type": "code",
   "execution_count": 5,
   "id": "cd20ab46-f181-4c4f-b699-259722ee25c4",
   "metadata": {},
   "outputs": [],
   "source": [
    "import hls4ml\n",
    "import QDenseBatchnorm\n"
   ]
  },
  {
   "cell_type": "code",
   "execution_count": 6,
   "id": "f632c66c-a3aa-499b-b37d-ea530dcd54a3",
   "metadata": {},
   "outputs": [
    {
     "name": "stdout",
     "output_type": "stream",
     "text": [
      "Interpreting Sequential\n",
      "Topology:\n",
      "Layer name: reshape_input, layer type: InputLayer, input shapes: [[None, 55296]], output shape: [None, 55296]\n",
      "Layer name: reshape, layer type: Reshape, input shapes: [[None, 55296]], output shape: [None, 864, 64, 1]\n",
      "Layer name: conv, layer type: QConv2D, input shapes: [[None, 864, 64, 1]], output shape: [None, 432, 32, 4]\n",
      "Layer name: relu0, layer type: Activation, input shapes: [[None, 432, 32, 4]], output shape: [None, 432, 32, 4]\n",
      "Layer name: flatten, layer type: Reshape, input shapes: [[None, 432, 32, 4]], output shape: [None, 55296]\n",
      "Layer name: dense1, layer type: QDenseBatchnorm, input shapes: [[None, 55296]], output shape: [None, 16]\n",
      "Layer name: relu1, layer type: Activation, input shapes: [[None, 16]], output shape: [None, 16]\n",
      "Layer name: dense2, layer type: QDense, input shapes: [[None, 16]], output shape: [None, 1]\n",
      "Layer name: outputs, layer type: Activation, input shapes: [[None, 1]], output shape: [None, 1]\n"
     ]
    },
    {
     "name": "stderr",
     "output_type": "stream",
     "text": [
      "/Users/jackcleeve/anaconda3/envs/fastml310/lib/python3.10/site-packages/keras/src/constraints.py:365: UserWarning: The `keras.constraints.serialize()` API should only be used for objects of type `keras.constraints.Constraint`. Found an instance of type <class 'qkeras.quantizers.quantized_bits'>, which may lead to improper serialization.\n",
      "  warnings.warn(\n"
     ]
    }
   ],
   "source": [
    "config = hls4ml.utils.config_from_keras_model(student_test, backend='Vitis', \n",
    "                                              default_precision='fixed<32,16>',\n",
    "                                              granularity='name')"
   ]
  },
  {
   "cell_type": "code",
   "execution_count": 7,
   "id": "35fe44b8",
   "metadata": {},
   "outputs": [],
   "source": [
    "for layer in config['LayerName'].keys():\n",
    "    config['LayerName'][layer]['Trace'] = True"
   ]
  },
  {
   "cell_type": "code",
   "execution_count": 11,
   "id": "01084c2f-31b7-477f-8829-c8aafac21176",
   "metadata": {},
   "outputs": [
    {
     "data": {
      "text/plain": [
       "{'Model': {'Precision': 'fixed<32,16>',\n",
       "  'ReuseFactor': 1,\n",
       "  'Strategy': 'Latency',\n",
       "  'BramFactor': 1000000000,\n",
       "  'TraceOutput': False},\n",
       " 'LayerName': {'reshape_input': {'Trace': True,\n",
       "   'Precision': {'result': 'fixed<32,16>'}},\n",
       "  'reshape': {'Trace': True, 'Precision': {'result': 'fixed<32,16>'}},\n",
       "  'conv': {'Trace': True,\n",
       "   'Precision': {'result': 'fixed<32,16>',\n",
       "    'weight': 'fixed<16,5>',\n",
       "    'bias': 'fixed<32,16>',\n",
       "    'accum': 'fixed<32,16>'},\n",
       "   'ReuseFactor': 1,\n",
       "   'ParallelizationFactor': 1,\n",
       "   'ConvImplementation': 'LineBuffer'},\n",
       "  'conv_linear': {'Trace': True,\n",
       "   'Precision': {'result': 'fixed<32,16>', 'table': 'fixed<18,8>'},\n",
       "   'ReuseFactor': 1,\n",
       "   'TableSize': 1024},\n",
       "  'relu0': {'Trace': True,\n",
       "   'Precision': {'result': 'ufixed<10,6,RND_CONV,SAT>',\n",
       "    'table': 'fixed<18,8>'},\n",
       "   'ReuseFactor': 1,\n",
       "   'TableSize': 1024},\n",
       "  'flatten': {'Trace': True, 'Precision': {'result': 'fixed<32,16>'}},\n",
       "  'dense1': {'Trace': True,\n",
       "   'Precision': {'result': 'fixed<32,16>',\n",
       "    'weight': 'fixed<16,5>',\n",
       "    'bias': 'fixed<16,5>',\n",
       "    'accum': 'fixed<32,16>'},\n",
       "   'ReuseFactor': 1},\n",
       "  'dense1_linear': {'Trace': True,\n",
       "   'Precision': {'result': 'fixed<32,16>', 'table': 'fixed<18,8>'},\n",
       "   'ReuseFactor': 1,\n",
       "   'TableSize': 1024},\n",
       "  'relu1': {'Trace': True,\n",
       "   'Precision': {'result': 'ufixed<10,6,RND_CONV,SAT>',\n",
       "    'table': 'fixed<18,8>'},\n",
       "   'ReuseFactor': 1,\n",
       "   'TableSize': 1024},\n",
       "  'dense2': {'Trace': True,\n",
       "   'Precision': {'result': 'fixed<32,16>',\n",
       "    'weight': 'fixed<16,5>',\n",
       "    'bias': 'fixed<32,16>',\n",
       "    'accum': 'fixed<32,16>'},\n",
       "   'ReuseFactor': 1},\n",
       "  'dense2_linear': {'Trace': True,\n",
       "   'Precision': {'result': 'fixed<32,16>', 'table': 'fixed<18,8>'},\n",
       "   'ReuseFactor': 1,\n",
       "   'TableSize': 1024},\n",
       "  'outputs': {'Trace': True,\n",
       "   'Precision': {'result': 'uint<8>', 'table': 'fixed<18,8>'},\n",
       "   'ReuseFactor': 1,\n",
       "   'TableSize': 1024}}}"
      ]
     },
     "execution_count": 11,
     "metadata": {},
     "output_type": "execute_result"
    }
   ],
   "source": [
    "config"
   ]
  },
  {
   "cell_type": "code",
   "execution_count": 8,
   "id": "7ca4fcbc-0ffe-49f1-a984-7077b2ac8f76",
   "metadata": {},
   "outputs": [
    {
     "name": "stdout",
     "output_type": "stream",
     "text": [
      "Interpreting Sequential\n",
      "Topology:\n",
      "Layer name: reshape_input, layer type: InputLayer, input shapes: [[None, 55296]], output shape: [None, 55296]\n",
      "Layer name: reshape, layer type: Reshape, input shapes: [[None, 55296]], output shape: [None, 864, 64, 1]\n",
      "Layer name: conv, layer type: QConv2D, input shapes: [[None, 864, 64, 1]], output shape: [None, 432, 32, 4]\n",
      "Layer name: relu0, layer type: Activation, input shapes: [[None, 432, 32, 4]], output shape: [None, 432, 32, 4]\n",
      "Layer name: flatten, layer type: Reshape, input shapes: [[None, 432, 32, 4]], output shape: [None, 55296]\n",
      "Layer name: dense1, layer type: QDenseBatchnorm, input shapes: [[None, 55296]], output shape: [None, 16]\n",
      "Layer name: relu1, layer type: Activation, input shapes: [[None, 16]], output shape: [None, 16]\n",
      "Layer name: dense2, layer type: QDense, input shapes: [[None, 16]], output shape: [None, 1]\n",
      "Layer name: outputs, layer type: Activation, input shapes: [[None, 1]], output shape: [None, 1]\n",
      "Creating HLS model\n",
      "WARNING: Layer conv requires \"dataflow\" pipeline style. Switching to \"dataflow\" pipeline style.\n"
     ]
    }
   ],
   "source": [
    "hls_model = hls4ml.converters.convert_from_keras_model(student_test,\n",
    "                                                       hls_config=config,\n",
    "                                                       io_type='io_parallel',\n",
    "                                                       output_dir=f'complex_hls4mlproj')"
   ]
  },
  {
   "cell_type": "code",
   "execution_count": 9,
   "id": "cdff4e52-f032-4211-a57d-11061e3ebaa0",
   "metadata": {},
   "outputs": [],
   "source": [
    "X_flat = X.reshape((2560,-1))"
   ]
  },
  {
   "cell_type": "code",
   "execution_count": 10,
   "id": "49f6e6d3-7484-425b-984a-697c2b25d911",
   "metadata": {},
   "outputs": [
    {
     "data": {
      "text/plain": [
       "(2560, 55296)"
      ]
     },
     "execution_count": 10,
     "metadata": {},
     "output_type": "execute_result"
    }
   ],
   "source": [
    "X_flat.shape"
   ]
  },
  {
   "cell_type": "code",
   "execution_count": 12,
   "id": "e942c113",
   "metadata": {},
   "outputs": [
    {
     "name": "stdout",
     "output_type": "stream",
     "text": [
      "INFO:tensorflow:Using MirroredStrategy with devices ('/job:localhost/replica:0/task:0/device:CPU:0',)\n"
     ]
    },
    {
     "name": "stderr",
     "output_type": "stream",
     "text": [
      "INFO:tensorflow:Using MirroredStrategy with devices ('/job:localhost/replica:0/task:0/device:CPU:0',)\n"
     ]
    },
    {
     "name": "stdout",
     "output_type": "stream",
     "text": [
      "Number of devices: 1\n"
     ]
    }
   ],
   "source": [
    "def loss(y_true, y_pred, choice):\n",
    "    if choice == 'mse':\n",
    "        loss = np.mean((y_true - y_pred)**2, axis = (1,2,3))\n",
    "        return loss\n",
    "\n",
    "ntimeticks = 6400\n",
    "nwire = 3456\n",
    "f_downsample = 10\n",
    "h_split = 10\n",
    "v_split = 4\n",
    "nbatch = 32\n",
    "\n",
    "strategy = tf.distribute.MirroredStrategy()\n",
    "print(\"Number of devices: {}\".format(strategy.num_replicas_in_sync))\n",
    "\n",
    "adccutoff = 10.*f_downsample/10.\n",
    "adcsaturation = 100.*f_downsample/10."
   ]
  },
  {
   "cell_type": "markdown",
   "id": "3c3e103e",
   "metadata": {},
   "source": [
    "COMPILING AND PREDICTING"
   ]
  },
  {
   "cell_type": "code",
   "execution_count": 13,
   "id": "6e7101be-e4a8-4bc5-b365-cd41faf5c39f",
   "metadata": {},
   "outputs": [
    {
     "name": "stdout",
     "output_type": "stream",
     "text": [
      "80/80 [==============================] - 26s 328ms/step\n",
      "80/80 [==============================] - 1s 10ms/step\n"
     ]
    }
   ],
   "source": [
    "#Y = student_test.predict(X_flat)\n",
    "\n",
    "X_predict_teacher = teacher.predict(X)\n",
    "X_loss_teacher = loss(X, X_predict_teacher, 'mse')\n",
    "X_student = X.reshape((-1,nwire*ntimeticks//f_downsample//v_split//h_split,1))\n",
    "Y = student_test.predict(X_student).reshape(len(X_loss_teacher))\n"
   ]
  },
  {
   "cell_type": "code",
   "execution_count": 14,
   "id": "8a250694-aca7-466c-9a17-8cc5d11f722c",
   "metadata": {},
   "outputs": [
    {
     "name": "stdout",
     "output_type": "stream",
     "text": [
      "Writing HLS project\n"
     ]
    },
    {
     "name": "stderr",
     "output_type": "stream",
     "text": [
      "/Users/jackcleeve/anaconda3/envs/fastml310/lib/python3.10/site-packages/keras/src/engine/training.py:3079: UserWarning: You are saving your model as an HDF5 file via `model.save()`. This file format is considered legacy. We recommend using instead the native Keras format, e.g. `model.save('my_model.keras')`.\n",
      "  saving_api.save_model(\n"
     ]
    },
    {
     "name": "stdout",
     "output_type": "stream",
     "text": [
      "Done\n"
     ]
    }
   ],
   "source": [
    "hls_model.compile()"
   ]
  },
  {
   "cell_type": "code",
   "execution_count": 19,
   "id": "0677d081",
   "metadata": {},
   "outputs": [
    {
     "name": "stdout",
     "output_type": "stream",
     "text": [
      "Recompiling myproject with tracing\n",
      "Writing HLS project\n",
      "Done\n"
     ]
    }
   ],
   "source": [
    "fake_hls4ml_pred, hls4ml_trace = hls_model.trace(X)"
   ]
  },
  {
   "cell_type": "code",
   "execution_count": 15,
   "id": "bf413ebe-7181-4567-957d-31c9dbd3a5a7",
   "metadata": {},
   "outputs": [],
   "source": [
    "#Y_hls = hls_model.predict(X_flat)\n",
    "y_predict_hls4ml_q = hls_model.predict(np.ascontiguousarray(X.reshape((-1,nwire*ntimeticks//f_downsample//v_split//h_split,1)))).reshape(len(X_loss_teacher))\n"
   ]
  },
  {
   "cell_type": "markdown",
   "id": "1b6f186d",
   "metadata": {},
   "source": [
    "RESULTS"
   ]
  },
  {
   "cell_type": "code",
   "execution_count": 16,
   "id": "5ecc2ef1",
   "metadata": {},
   "outputs": [],
   "source": [
    "import matplotlib.pyplot as plt"
   ]
  },
  {
   "cell_type": "code",
   "execution_count": 23,
   "id": "97f942b9",
   "metadata": {},
   "outputs": [
    {
     "data": {
      "image/png": "[encoded data removed]",
      "text/plain": [
       "<Figure size 640x480 with 1 Axes>"
      ]
     },
     "metadata": {},
     "output_type": "display_data"
    }
   ],
   "source": [
    "plt.hist(y_predict_hls4ml_q, bins=40, edgecolor='black')\n",
    "plt.xlabel('student_seq_10x4 hls model scores')\n",
    "plt.ylabel('Frequency')\n",
    "plt.title('Histogram of student_seq_10x4 hls model scores')\n",
    "plt.show()"
   ]
  },
  {
   "cell_type": "code",
   "execution_count": 24,
   "id": "c5f4f82a",
   "metadata": {},
   "outputs": [
    {
     "data": {
      "image/png": "[encoded data removed]",
      "text/plain": [
       "<Figure size 640x480 with 1 Axes>"
      ]
     },
     "metadata": {},
     "output_type": "display_data"
    }
   ],
   "source": [
    "plt.scatter(y_predict_hls4ml_q, Y)\n",
    "plt.xlabel('student_seq_10x4 hls model scores')\n",
    "plt.ylabel('student_seq_10x4 regular model scores')\n",
    "plt.title('student_seq_10x4 Score Correlation plot')\n",
    "plt.show()"
   ]
  },
  {
   "cell_type": "code",
   "execution_count": 24,
   "id": "065dbc7b",
   "metadata": {},
   "outputs": [
    {
     "data": {
      "image/png": "[encoded data removed]",
      "text/plain": [
       "<Figure size 1000x600 with 1 Axes>"
      ]
     },
     "metadata": {},
     "output_type": "display_data"
    }
   ],
   "source": [
    "differences = [pred1 != pred2 for pred1, pred2 in zip(Y, y_predict_hls4ml_q)]\n",
    "\n",
    "plt.figure(figsize=(10, 6))\n",
    "plt.scatter(range(len(Y)), Y, color='blue', s=10, label='Python')\n",
    "plt.scatter(range(len(y_predict_hls4ml_q)), y_predict_hls4ml_q, color='green', s=10, label='hls4ml')\n",
    "\n",
    "plt.xlabel('Indecies')\n",
    "plt.ylabel('Values')\n",
    "plt.title('Python vs hls4ml Models cicada v2 seq 10x4')\n",
    "plt.legend()\n",
    "plt.show()\n",
    "# Labels and title"
   ]
  },
  {
   "cell_type": "code",
   "execution_count": 25,
   "id": "3e2031ae-5a56-4c88-bf49-693a95008a50",
   "metadata": {},
   "outputs": [],
   "source": [
    "off_list = np.argwhere(~np.isclose(Y, y_predict_hls4ml_q))"
   ]
  },
  {
   "cell_type": "code",
   "execution_count": 26,
   "id": "0c17116a",
   "metadata": {},
   "outputs": [
    {
     "data": {
      "image/png": "[encoded data removed]",
      "text/plain": [
       "<Figure size 1000x600 with 1 Axes>"
      ]
     },
     "metadata": {},
     "output_type": "display_data"
    }
   ],
   "source": [
    "plt.figure(figsize=(10, 6))\n",
    "plt.scatter(off_list, Y[off_list], color='blue', s=10, label='Python')\n",
    "plt.scatter(off_list, y_predict_hls4ml_q[off_list], color='green', s=10, label='hls4ml')\n",
    "\n",
    "plt.xlabel('Indecies')\n",
    "plt.ylabel('Different Values')\n",
    "plt.title('Different Values in Python vs hls4ml Models Cicada-v2 seq 10x4')\n",
    "plt.legend()\n",
    "plt.show()"
   ]
  },
  {
   "cell_type": "code",
   "execution_count": 27,
   "id": "479a8c37",
   "metadata": {},
   "outputs": [],
   "source": [
    "non_zero_list = np.argwhere(~np.isclose(0.0, y_predict_hls4ml_q))"
   ]
  },
  {
   "cell_type": "code",
   "execution_count": 28,
   "id": "a8cb5d64",
   "metadata": {},
   "outputs": [
    {
     "data": {
      "text/plain": [
       "27"
      ]
     },
     "execution_count": 28,
     "metadata": {},
     "output_type": "execute_result"
    }
   ],
   "source": [
    "len(off_list)"
   ]
  },
  {
   "cell_type": "code",
   "execution_count": 29,
   "id": "8b9c21d3",
   "metadata": {},
   "outputs": [
    {
     "data": {
      "text/plain": [
       "29"
      ]
     },
     "execution_count": 29,
     "metadata": {},
     "output_type": "execute_result"
    }
   ],
   "source": [
    "len(non_zero_list)"
   ]
  },
  {
   "cell_type": "code",
   "execution_count": 30,
   "id": "f3b3c531",
   "metadata": {},
   "outputs": [
    {
     "name": "stdout",
     "output_type": "stream",
     "text": [
      "Y: \n",
      "1.0\n",
      "hls pred: \n",
      "0.0\n",
      "Y: \n",
      "1.0\n",
      "hls pred: \n",
      "0.0\n",
      "Y: \n",
      "5.0\n",
      "hls pred: \n",
      "4.0\n",
      "Y: \n",
      "1.0\n",
      "hls pred: \n",
      "0.0\n",
      "Y: \n",
      "1.0\n",
      "hls pred: \n",
      "0.0\n",
      "Y: \n",
      "1.0\n",
      "hls pred: \n",
      "0.0\n",
      "Y: \n",
      "5.0\n",
      "hls pred: \n",
      "4.0\n",
      "Y: \n",
      "1.0\n",
      "hls pred: \n",
      "0.0\n",
      "Y: \n",
      "5.0\n",
      "hls pred: \n",
      "4.0\n",
      "Y: \n",
      "16.0\n",
      "hls pred: \n",
      "15.0\n",
      "Y: \n",
      "6.0\n",
      "hls pred: \n",
      "5.0\n",
      "Y: \n",
      "3.0\n",
      "hls pred: \n",
      "2.0\n",
      "Y: \n",
      "1.0\n",
      "hls pred: \n",
      "0.0\n",
      "Y: \n",
      "1.0\n",
      "hls pred: \n",
      "0.0\n",
      "Y: \n",
      "2.0\n",
      "hls pred: \n",
      "1.0\n",
      "Y: \n",
      "1.0\n",
      "hls pred: \n",
      "0.0\n",
      "Y: \n",
      "1.0\n",
      "hls pred: \n",
      "0.0\n",
      "Y: \n",
      "4.0\n",
      "hls pred: \n",
      "3.0\n",
      "Y: \n",
      "1.0\n",
      "hls pred: \n",
      "0.0\n",
      "Y: \n",
      "2.0\n",
      "hls pred: \n",
      "1.0\n",
      "Y: \n",
      "1.0\n",
      "hls pred: \n",
      "0.0\n",
      "Y: \n",
      "4.0\n",
      "hls pred: \n",
      "3.0\n",
      "Y: \n",
      "2.0\n",
      "hls pred: \n",
      "1.0\n",
      "Y: \n",
      "1.0\n",
      "hls pred: \n",
      "0.0\n",
      "Y: \n",
      "3.0\n",
      "hls pred: \n",
      "2.0\n",
      "Y: \n",
      "4.0\n",
      "hls pred: \n",
      "3.0\n",
      "Y: \n",
      "2.0\n",
      "hls pred: \n",
      "1.0\n"
     ]
    }
   ],
   "source": [
    "off_list_indexes = []\n",
    "for k in off_list:\n",
    "    off_list_indexes.append(k[0])\n",
    "\n",
    "for ind in off_list_indexes:\n",
    "    print(\"Y: \")\n",
    "    print(Y[ind])\n",
    "    print(\"hls pred: \")\n",
    "    print(y_predict_hls4ml_q[ind])"
   ]
  },
  {
   "cell_type": "code",
   "execution_count": 31,
   "id": "e60299f2",
   "metadata": {},
   "outputs": [],
   "source": [
    "diff_sum = 0\n",
    "\n",
    "for ind in off_list_indexes:\n",
    "    diff = abs(Y[ind]-y_predict_hls4ml_q[ind])\n",
    "    diff_sum = diff+diff_sum\n",
    "\n",
    "diff_avg = diff_sum/len(off_list)"
   ]
  },
  {
   "cell_type": "code",
   "execution_count": 32,
   "id": "e05ca689",
   "metadata": {},
   "outputs": [
    {
     "name": "stdout",
     "output_type": "stream",
     "text": [
      "1.0\n"
     ]
    }
   ],
   "source": [
    "print(diff_avg)"
   ]
  },
  {
   "cell_type": "code",
   "execution_count": 33,
   "id": "88526be9",
   "metadata": {},
   "outputs": [],
   "source": [
    "diff_pct = []\n",
    "for ind in off_list_indexes:\n",
    "    diff = abs(Y[ind] - y_predict_hls4ml_q[ind])\n",
    "    if Y[ind]==0:\n",
    "        temp_diff_pct = diff\n",
    "    else:\n",
    "        temp_diff_pct = diff/Y[ind]\n",
    "    diff_pct.append(temp_diff_pct)"
   ]
  },
  {
   "cell_type": "code",
   "execution_count": 34,
   "id": "51284240",
   "metadata": {},
   "outputs": [
    {
     "name": "stdout",
     "output_type": "stream",
     "text": [
      "0.6387345679012346\n"
     ]
    }
   ],
   "source": [
    "diff_pct_avg = sum(diff_pct)/len(diff_pct)\n",
    "print(diff_pct_avg)"
   ]
  },
  {
   "cell_type": "code",
   "execution_count": 29,
   "id": "169ef0d3-d5e4-4dcf-b19f-2af476a4360e",
   "metadata": {},
   "outputs": [
    {
     "data": {
      "text/plain": [
       "True"
      ]
     },
     "execution_count": 29,
     "metadata": {},
     "output_type": "execute_result"
    }
   ],
   "source": [
    "np.allclose(Y, y_predict_hls4ml_q, atol=1)"
   ]
  },
  {
   "cell_type": "markdown",
   "id": "a40f4d28",
   "metadata": {},
   "source": [
    "WEIGHTS"
   ]
  },
  {
   "cell_type": "code",
   "execution_count": 25,
   "id": "2e2b49e8",
   "metadata": {},
   "outputs": [
    {
     "name": "stdout",
     "output_type": "stream",
     "text": [
      "Interpreting Sequential\n",
      "Topology:\n",
      "Layer name: reshape_input, layer type: InputLayer, input shapes: [[None, 55296]], output shape: [None, 55296]\n",
      "Layer name: reshape, layer type: Reshape, input shapes: [[None, 55296]], output shape: [None, 864, 64, 1]\n",
      "Layer name: conv, layer type: QConv2D, input shapes: [[None, 864, 64, 1]], output shape: [None, 432, 32, 4]\n",
      "Layer name: relu0, layer type: Activation, input shapes: [[None, 432, 32, 4]], output shape: [None, 432, 32, 4]\n",
      "Layer name: flatten, layer type: Reshape, input shapes: [[None, 432, 32, 4]], output shape: [None, 55296]\n",
      "Layer name: dense1, layer type: QDenseBatchnorm, input shapes: [[None, 55296]], output shape: [None, 16]\n",
      "Layer name: relu1, layer type: Activation, input shapes: [[None, 16]], output shape: [None, 16]\n",
      "Layer name: dense2, layer type: QDense, input shapes: [[None, 16]], output shape: [None, 1]\n",
      "Layer name: outputs, layer type: Activation, input shapes: [[None, 1]], output shape: [None, 1]\n",
      "Creating HLS model\n",
      "WARNING: Layer conv requires \"dataflow\" pipeline style. Switching to \"dataflow\" pipeline style.\n",
      "Profiling weights (before optimization)\n",
      "Weights for conv are only zeros, ignoring.\n",
      "Weights for dense2 are only zeros, ignoring.\n",
      "Profiling weights (final / after optimization)\n",
      "Weights for conv are only zeros, ignoring.\n",
      "Weights for dense2 are only zeros, ignoring.\n"
     ]
    },
    {
     "data": {
      "text/plain": [
       "(<Figure size 640x480 with 1 Axes>,\n",
       " <Figure size 640x480 with 1 Axes>,\n",
       " None,\n",
       " None)"
      ]
     },
     "execution_count": 25,
     "metadata": {},
     "output_type": "execute_result"
    },
    {
     "data": {
      "image/png": "[encoded data removed]",
      "text/plain": [
       "<Figure size 640x480 with 1 Axes>"
      ]
     },
     "metadata": {},
     "output_type": "display_data"
    },
    {
     "data": {
      "image/png": "[encoded data removed]",
      "text/plain": [
       "<Figure size 640x480 with 1 Axes>"
      ]
     },
     "metadata": {},
     "output_type": "display_data"
    }
   ],
   "source": [
    "hls4ml.model.profiling.numerical(model=student_test, hls_model=hls_model)"
   ]
  },
  {
   "cell_type": "code",
   "execution_count": 26,
   "id": "efc106df-cfe3-45c3-9260-6344685670aa",
   "metadata": {},
   "outputs": [
    {
     "name": "stdout",
     "output_type": "stream",
     "text": [
      "{}\n"
     ]
    }
   ],
   "source": [
    "print(hls4ml_trace)"
   ]
  },
  {
   "cell_type": "code",
   "execution_count": 27,
   "id": "a1c69443",
   "metadata": {},
   "outputs": [
    {
     "name": "stdout",
     "output_type": "stream",
     "text": [
      "[<keras.src.layers.reshaping.reshape.Reshape object at 0x16d7199c0>, <qkeras.qconvolutional.QConv2D object at 0x16d6bdd20>, <qkeras.qlayers.QActivation object at 0x16d75aa70>, <keras.src.layers.reshaping.flatten.Flatten object at 0x16d75b0a0>, <keras.src.layers.regularization.dropout.Dropout object at 0x16d75b490>, <qkeras.qdense_batchnorm.QDenseBatchnorm object at 0x16d75b4c0>, <qkeras.qlayers.QActivation object at 0x16d703340>, <keras.src.layers.regularization.dropout.Dropout object at 0x16d086680>, <qkeras.qlayers.QDense object at 0x16d7c90f0>, <qkeras.qlayers.QActivation object at 0x16d7caad0>]\n",
      "[array([[[[ 0.1031297 , -1.0433979 ,  0.2631576 ,  0.62538505]],\n",
      "\n",
      "        [[ 1.236919  , -0.6691066 , -1.2184844 , -0.7752788 ]]],\n",
      "\n",
      "\n",
      "       [[[-1.0286767 , -0.8460969 ,  0.0842438 ,  0.8211138 ]],\n",
      "\n",
      "        [[ 0.12976919,  0.58964366, -0.85490865,  0.0490555 ]]]],\n",
      "      dtype=float32)]\n",
      "[array([[ 0.1137787 ],\n",
      "       [ 0.82232213],\n",
      "       [-0.02383308],\n",
      "       [ 0.36022156],\n",
      "       [ 0.35828292],\n",
      "       [-0.1830983 ],\n",
      "       [ 0.32160726],\n",
      "       [-0.52645457],\n",
      "       [-0.6183346 ],\n",
      "       [-0.12424557],\n",
      "       [-0.10799771],\n",
      "       [-0.10392568],\n",
      "       [ 0.8839359 ],\n",
      "       [ 0.23692003],\n",
      "       [-0.2976516 ],\n",
      "       [ 0.10007499]], dtype=float32)]\n",
      "[]\n"
     ]
    }
   ],
   "source": [
    "layers = student_test.layers\n",
    "conv_weights = student_test.layers[1].get_weights()\n",
    "dense_weights = student_test.layers[8].get_weights()\n",
    "qdensebatchnorm_weights = student_test.layers[6].get_weights()\n",
    "print(layers)\n",
    "print(conv_weights)\n",
    "print(dense_weights)\n",
    "print(qdensebatchnorm_weights)"
   ]
  },
  {
   "cell_type": "code",
   "execution_count": 28,
   "id": "7a786902",
   "metadata": {},
   "outputs": [
    {
     "name": "stdout",
     "output_type": "stream",
     "text": [
      "-1.0433979 0.8211138\n"
     ]
    }
   ],
   "source": [
    "#print(min(conv_weights))\n",
    "conv_weights_list = []\n",
    "for i in conv_weights[0][0][0][0]:\n",
    "    conv_weights_list.append(i)\n",
    "for j in conv_weights[0][1][0][0]:\n",
    "    conv_weights_list.append(j)\n",
    "print(min(conv_weights_list), max(conv_weights_list))"
   ]
  },
  {
   "cell_type": "code",
   "execution_count": 29,
   "id": "620f27c6",
   "metadata": {},
   "outputs": [
    {
     "name": "stdout",
     "output_type": "stream",
     "text": [
      "[-0.6183346] [0.8839359]\n"
     ]
    }
   ],
   "source": [
    "print(min(dense_weights[0]), max(dense_weights[0]))"
   ]
  },
  {
   "cell_type": "code",
   "execution_count": 30,
   "id": "12836efe",
   "metadata": {},
   "outputs": [
    {
     "ename": "KeyError",
     "evalue": "'XILINX_VIVADO'",
     "output_type": "error",
     "traceback": [
      "\u001b[0;31m---------------------------------------------------------------------------\u001b[0m",
      "\u001b[0;31mKeyError\u001b[0m                                  Traceback (most recent call last)",
      "Cell \u001b[0;32mIn[30], line 3\u001b[0m\n\u001b[1;32m      1\u001b[0m \u001b[38;5;28;01mimport\u001b[39;00m \u001b[38;5;21;01mos\u001b[39;00m\n\u001b[0;32m----> 3\u001b[0m os\u001b[38;5;241m.\u001b[39menviron[\u001b[38;5;124m'\u001b[39m\u001b[38;5;124mPATH\u001b[39m\u001b[38;5;124m'\u001b[39m] \u001b[38;5;241m=\u001b[39m \u001b[43mos\u001b[49m\u001b[38;5;241;43m.\u001b[39;49m\u001b[43menviron\u001b[49m\u001b[43m[\u001b[49m\u001b[38;5;124;43m'\u001b[39;49m\u001b[38;5;124;43mXILINX_VIVADO\u001b[39;49m\u001b[38;5;124;43m'\u001b[39;49m\u001b[43m]\u001b[49m \u001b[38;5;241m+\u001b[39m \u001b[38;5;124m'\u001b[39m\u001b[38;5;124m/bin:\u001b[39m\u001b[38;5;124m'\u001b[39m \u001b[38;5;241m+\u001b[39m os\u001b[38;5;241m.\u001b[39menviron[\u001b[38;5;124m'\u001b[39m\u001b[38;5;124mPATH\u001b[39m\u001b[38;5;124m'\u001b[39m]\n",
      "File \u001b[0;32m~/anaconda3/envs/fastml310/lib/python3.10/os.py:680\u001b[0m, in \u001b[0;36m_Environ.__getitem__\u001b[0;34m(self, key)\u001b[0m\n\u001b[1;32m    <a href='file:///Users/jackcleeve/anaconda3/envs/fastml310/lib/python3.10/os.py?line=676'>677</a>\u001b[0m     value \u001b[39m=\u001b[39m \u001b[39mself\u001b[39m\u001b[39m.\u001b[39m_data[\u001b[39mself\u001b[39m\u001b[39m.\u001b[39mencodekey(key)]\n\u001b[1;32m    <a href='file:///Users/jackcleeve/anaconda3/envs/fastml310/lib/python3.10/os.py?line=677'>678</a>\u001b[0m \u001b[39mexcept\u001b[39;00m \u001b[39mKeyError\u001b[39;00m:\n\u001b[1;32m    <a href='file:///Users/jackcleeve/anaconda3/envs/fastml310/lib/python3.10/os.py?line=678'>679</a>\u001b[0m     \u001b[39m# raise KeyError with the original key value\u001b[39;00m\n\u001b[0;32m--> <a href='file:///Users/jackcleeve/anaconda3/envs/fastml310/lib/python3.10/os.py?line=679'>680</a>\u001b[0m     \u001b[39mraise\u001b[39;00m \u001b[39mKeyError\u001b[39;00m(key) \u001b[39mfrom\u001b[39;00m \u001b[39mNone\u001b[39;00m\n\u001b[1;32m    <a href='file:///Users/jackcleeve/anaconda3/envs/fastml310/lib/python3.10/os.py?line=680'>681</a>\u001b[0m \u001b[39mreturn\u001b[39;00m \u001b[39mself\u001b[39m\u001b[39m.\u001b[39mdecodevalue(value)\n",
      "\u001b[0;31mKeyError\u001b[0m: 'XILINX_VIVADO'"
     ]
    }
   ],
   "source": [
    "import os\n",
    "\n",
    "os.environ['PATH'] = os.environ['XILINX_VIVADO'] + '/bin:' + os.environ['PATH']"
   ]
  },
  {
   "cell_type": "code",
   "execution_count": 30,
   "id": "0ca47cac",
   "metadata": {},
   "outputs": [
    {
     "ename": "SyntaxError",
     "evalue": "invalid syntax (3971047448.py, line 1)",
     "output_type": "error",
     "traceback": [
      "\u001b[0;36m  Cell \u001b[0;32mIn[30], line 1\u001b[0;36m\u001b[0m\n\u001b[0;31m    hls4ml build -p complex_hls4mlproj\u001b[0m\n\u001b[0m           ^\u001b[0m\n\u001b[0;31mSyntaxError\u001b[0m\u001b[0;31m:\u001b[0m invalid syntax\n"
     ]
    }
   ],
   "source": [
    "hls4ml build -p complex_hls4mlproj"
   ]
  },
  {
   "cell_type": "code",
   "execution_count": 29,
   "id": "58bb535b",
   "metadata": {},
   "outputs": [
    {
     "name": "stdout",
     "output_type": "stream",
     "text": [
      "Project myproject_prj does not exist. Rerun \"hls4ml build -p complex_hls4mlproj\".\n"
     ]
    },
    {
     "name": "stderr",
     "output_type": "stream",
     "text": [
      "sh: vivado_hls: command not found\n"
     ]
    }
   ],
   "source": [
    "hls_model.build(csim=False, synth=True, vsynth=True)"
   ]
  },
  {
   "cell_type": "code",
   "execution_count": null,
   "id": "94f91a5c",
   "metadata": {},
   "outputs": [],
   "source": [
    "from pathlib import Path\n",
    "import pprint\n",
    "\n",
    "def getReports(indir):\n",
    "    data_ = {}\n",
    "\n",
    "    report_vsynth = Path('{}/vivado_synth.rpt'.format(indir))\n",
    "    report_csynth = Path('{}/myproject_prj/solution1/syn/report/myproject_csynth.rpt'.format(indir))\n",
    "\n",
    "    if report_vsynth.is_file() and report_csynth.is_file():\n",
    "        print('Found valid vsynth and synth in {}! Fetching numbers'.format(indir))\n",
    "\n",
    "        # Get the resources from the logic synthesis report\n",
    "        with report_vsynth.open() as report:\n",
    "            lines = np.array(report.readlines())\n",
    "            data_['lut'] = int(lines[np.array(['CLB LUTs*' in line for line in lines])][0].split('|')[2])\n",
    "            data_['ff'] = int(lines[np.array(['CLB Registers' in line for line in lines])][0].split('|')[2])\n",
    "            data_['bram'] = float(lines[np.array(['Block RAM Tile' in line for line in lines])][0].split('|')[2])\n",
    "            data_['dsp'] = int(lines[np.array(['DSPs' in line for line in lines])][0].split('|')[2])\n",
    "            data_['lut_rel'] = float(lines[np.array(['CLB LUTs*' in line for line in lines])][0].split('|')[5])\n",
    "            data_['ff_rel'] = float(lines[np.array(['CLB Registers' in line for line in lines])][0].split('|')[5])\n",
    "            data_['bram_rel'] = float(lines[np.array(['Block RAM Tile' in line for line in lines])][0].split('|')[5])\n",
    "            data_['dsp_rel'] = float(lines[np.array(['DSPs' in line for line in lines])][0].split('|')[5])\n",
    "\n",
    "        with report_csynth.open() as report:\n",
    "            lines = np.array(report.readlines())\n",
    "            lat_line = lines[np.argwhere(np.array(['Latency (cycles)' in line for line in lines])).flatten()[0] + 3]\n",
    "            data_['latency_clks'] = int(lat_line.split('|')[2])\n",
    "            data_['latency_mus'] = float(lat_line.split('|')[2]) * 5.0 / 1000.0\n",
    "            data_['latency_ii'] = int(lat_line.split('|')[6])\n",
    "\n",
    "    return data_"
   ]
  },
  {
   "cell_type": "code",
   "execution_count": null,
   "id": "03f2115a",
   "metadata": {},
   "outputs": [],
   "source": [
    "data_quantized_pruned = getReports('complex_hls4mlproj')\n",
    "\n",
    "print(\"\\n Resource usage and latency: \")\n",
    "pprint.pprint(data_quantized_pruned)"
   ]
  }
 ],
 "metadata": {
  "interpreter": {
   "hash": "8bef50b4ab21f090365826b88c70ccad1a24a6ce9129a4ff557590d98caaed24"
  },
  "kernelspec": {
   "display_name": "Python 3.10.14 ('fastml310')",
   "language": "python",
   "name": "python3"
  },
  "language_info": {
   "codemirror_mode": {
    "name": "ipython",
    "version": 3
   },
   "file_extension": ".py",
   "mimetype": "text/x-python",
   "name": "python",
   "nbconvert_exporter": "python",
   "pygments_lexer": "ipython3",
   "version": "3.10.14"
  }
 },
 "nbformat": 4,
 "nbformat_minor": 5
}
