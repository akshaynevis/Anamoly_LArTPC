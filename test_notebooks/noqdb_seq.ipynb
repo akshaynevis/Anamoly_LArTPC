{
 "cells": [
  {
   "cell_type": "code",
   "execution_count": 1,
   "id": "a02784ec",
   "metadata": {},
   "outputs": [
    {
     "name": "stdout",
     "output_type": "stream",
     "text": [
      "Downloading example model files ...\n",
      "{'OutputDir': 'my-hls-test', 'ProjectName': 'myproject', 'Backend': 'Vivado', 'Version': '1.0.0', 'Part': 'xcvu13p-flga2577-2-e', 'ClockPeriod': 5, 'IOType': 'io_parallel', 'HLSConfig': {'Model': {'Precision': 'ap_fixed<16,6>', 'ReuseFactor': 1}}, 'KerasJson': 'KERAS_3layer.json', 'KerasH5': 'KERAS_3layer_weights.h5'}\n",
      "Interpreting Model\n",
      "Topology:\n",
      "Layer name: input_1, layer type: InputLayer, input shapes: [[None, 16]], output shape: [None, 16]\n",
      "Layer name: fc1_relu, layer type: Dense, input shapes: [[None, 16]], output shape: [None, 64]\n",
      "Layer name: fc2_relu, layer type: Dense, input shapes: [[None, 64]], output shape: [None, 32]\n",
      "Layer name: fc3_relu, layer type: Dense, input shapes: [[None, 32]], output shape: [None, 32]\n",
      "Layer name: output_softmax, layer type: Dense, input shapes: [[None, 32]], output shape: [None, 5]\n",
      "Creating HLS model\n",
      "Writing HLS project\n",
      "Done\n",
      "Project myproject_prj does not exist. Rerun \"hls4ml build -p my-hls-test\".\n",
      "Project myproject_prj does not exist. Rerun \"hls4ml build -p my-hls-test\".\n"
     ]
    },
    {
     "name": "stderr",
     "output_type": "stream",
     "text": [
      "sh: vivado_hls: command not found\n"
     ]
    }
   ],
   "source": [
    "###TEST FROM DOCUMENTATION\n",
    "\n",
    "import hls4ml\n",
    "\n",
    "#Fetch a keras model from our example repository\n",
    "#This will download our example model to your working directory and return an example configuration file\n",
    "config = hls4ml.utils.fetch_example_model('KERAS_3layer.json')\n",
    "\n",
    "print(config) #You can print it to see some default parameters\n",
    "\n",
    "#Convert it to a hls project\n",
    "hls_model = hls4ml.converters.keras_to_hls(config)\n",
    "\n",
    "#Use Vivado HLS to synthesize the model\n",
    "#This might take several minutes\n",
    "hls_model.build()\n",
    "\n",
    "#Print out the report if you want\n",
    "hls4ml.report.read_vivado_report('my-hls-test')"
   ]
  },
  {
   "cell_type": "code",
   "execution_count": 1,
   "id": "5e97f84b-dba5-4d32-a5ae-dbcbd135994c",
   "metadata": {},
   "outputs": [],
   "source": [
    "import numpy as np\n",
    "import tensorflow as tf\n",
    "\n",
    "from tensorflow import keras\n"
   ]
  },
  {
   "cell_type": "code",
   "execution_count": 2,
   "id": "c70ed6b0-798d-4f08-9e9a-26ccb0c4ff73",
   "metadata": {},
   "outputs": [],
   "source": [
    "X = np.load(\"/Users/jackcleeve/Desktop/bnb_WithWire_00_pureNu_batch_00_10X4.npy\")"
   ]
  },
  {
   "cell_type": "code",
   "execution_count": 3,
   "id": "183ee736-e707-44db-afb7-b5efde7ef163",
   "metadata": {},
   "outputs": [
    {
     "data": {
      "text/plain": [
       "(2560, 864, 64, 1)"
      ]
     },
     "execution_count": 3,
     "metadata": {},
     "output_type": "execute_result"
    }
   ],
   "source": [
    "X.shape"
   ]
  },
  {
   "cell_type": "code",
   "execution_count": 3,
   "id": "fc1fa3a1-aab5-425c-9902-4b6ff464ecc7",
   "metadata": {},
   "outputs": [],
   "source": [
    "from qkeras.utils import _add_supported_quantized_objects\n",
    "co = {}\n",
    "_add_supported_quantized_objects(co)"
   ]
  },
  {
   "cell_type": "code",
   "execution_count": 4,
   "id": "300ca51c-a055-40a8-94b1-7606ed653e4e",
   "metadata": {},
   "outputs": [
    {
     "name": "stderr",
     "output_type": "stream",
     "text": [
      "WARNING:absl:At this time, the v2.11+ optimizer `tf.keras.optimizers.RestoredOptimizer` runs slowly on M1/M2 Macs, please use the legacy Keras optimizer instead, located at `tf.keras.optimizers.legacy.RestoredOptimizer`.\n",
      "WARNING:absl:At this time, the v2.11+ optimizer `tf.keras.optimizers.Adam` runs slowly on M1/M2 Macs, please use the legacy Keras optimizer instead, located at `tf.keras.optimizers.legacy.Adam`.\n"
     ]
    }
   ],
   "source": [
    "model = keras.models.load_model(\"/Users/jackcleeve/Desktop/Research/Karagiorgi-Lab/Cicada_Models/noQDB_seq\", custom_objects=co)"
   ]
  },
  {
   "cell_type": "code",
   "execution_count": 7,
   "id": "c7d7ac35-9647-4f91-b77d-9738e40f502b",
   "metadata": {},
   "outputs": [
    {
     "name": "stdout",
     "output_type": "stream",
     "text": [
      "Model: \"cicada-v1\"\n",
      "_________________________________________________________________\n",
      " Layer (type)                Output Shape              Param #   \n",
      "=================================================================\n",
      " dense1 (QDense)             (None, 16)                884736    \n",
      "                                                                 \n",
      " relu1 (QActivation)         (None, 16)                0         \n",
      "                                                                 \n",
      " dense2 (QDense)             (None, 1)                 16        \n",
      "                                                                 \n",
      " outputs (QActivation)       (None, 1)                 0         \n",
      "                                                                 \n",
      "=================================================================\n",
      "Total params: 884752 (3.38 MB)\n",
      "Trainable params: 884752 (3.38 MB)\n",
      "Non-trainable params: 0 (0.00 Byte)\n",
      "_________________________________________________________________\n"
     ]
    }
   ],
   "source": [
    "model.summary()"
   ]
  },
  {
   "cell_type": "code",
   "execution_count": 5,
   "id": "cd20ab46-f181-4c4f-b699-259722ee25c4",
   "metadata": {},
   "outputs": [],
   "source": [
    "import hls4ml\n"
   ]
  },
  {
   "cell_type": "code",
   "execution_count": null,
   "id": "80e04c3e",
   "metadata": {},
   "outputs": [],
   "source": []
  },
  {
   "cell_type": "code",
   "execution_count": 6,
   "id": "f632c66c-a3aa-499b-b37d-ea530dcd54a3",
   "metadata": {},
   "outputs": [
    {
     "name": "stdout",
     "output_type": "stream",
     "text": [
      "Interpreting Sequential\n",
      "Topology:\n",
      "Layer name: inputs_, layer type: InputLayer, input shapes: [[None, 55296]], output shape: [None, 55296]\n",
      "Layer name: dense1, layer type: QDense, input shapes: [[None, 55296]], output shape: [None, 16]\n",
      "Layer name: relu1, layer type: Activation, input shapes: [[None, 16]], output shape: [None, 16]\n",
      "Layer name: dense2, layer type: QDense, input shapes: [[None, 16]], output shape: [None, 1]\n",
      "Layer name: outputs, layer type: Activation, input shapes: [[None, 1]], output shape: [None, 1]\n"
     ]
    },
    {
     "name": "stderr",
     "output_type": "stream",
     "text": [
      "/Users/jackcleeve/anaconda3/envs/fastml310/lib/python3.10/site-packages/keras/src/constraints.py:365: UserWarning: The `keras.constraints.serialize()` API should only be used for objects of type `keras.constraints.Constraint`. Found an instance of type <class 'qkeras.quantizers.quantized_bits'>, which may lead to improper serialization.\n",
      "  warnings.warn(\n"
     ]
    }
   ],
   "source": [
    "config = hls4ml.utils.config_from_keras_model(model, backend='Vitis', \n",
    "                                              default_precision='fixed<32,16>',\n",
    "                                              granularity='name')"
   ]
  },
  {
   "cell_type": "code",
   "execution_count": 7,
   "id": "2959f22c",
   "metadata": {},
   "outputs": [],
   "source": [
    "for layer in config['LayerName'].keys():\n",
    "    config['LayerName'][layer]['Trace'] = True"
   ]
  },
  {
   "cell_type": "code",
   "execution_count": 11,
   "id": "01084c2f-31b7-477f-8829-c8aafac21176",
   "metadata": {},
   "outputs": [
    {
     "data": {
      "text/plain": [
       "{'Model': {'Precision': 'fixed<32,16>',\n",
       "  'ReuseFactor': 1,\n",
       "  'Strategy': 'Latency',\n",
       "  'BramFactor': 1000000000,\n",
       "  'TraceOutput': False},\n",
       " 'LayerName': {'inputs_': {'Trace': True,\n",
       "   'Precision': {'result': 'fixed<32,16>'}},\n",
       "  'dense1': {'Trace': True,\n",
       "   'Precision': {'result': 'fixed<32,16>',\n",
       "    'weight': 'fixed<16,5>',\n",
       "    'bias': 'fixed<32,16>',\n",
       "    'accum': 'fixed<32,16>'},\n",
       "   'ReuseFactor': 1},\n",
       "  'dense1_linear': {'Trace': True,\n",
       "   'Precision': {'result': 'fixed<32,16>', 'table': 'fixed<18,8>'},\n",
       "   'ReuseFactor': 1,\n",
       "   'TableSize': 1024},\n",
       "  'relu1': {'Trace': True,\n",
       "   'Precision': {'result': 'ufixed<16,4,RND_CONV,SAT>',\n",
       "    'table': 'fixed<18,8>'},\n",
       "   'ReuseFactor': 1,\n",
       "   'TableSize': 1024},\n",
       "  'dense2': {'Trace': True,\n",
       "   'Precision': {'result': 'fixed<32,16>',\n",
       "    'weight': 'fixed<16,5>',\n",
       "    'bias': 'fixed<32,16>',\n",
       "    'accum': 'fixed<32,16>'},\n",
       "   'ReuseFactor': 1},\n",
       "  'dense2_linear': {'Trace': True,\n",
       "   'Precision': {'result': 'fixed<32,16>', 'table': 'fixed<18,8>'},\n",
       "   'ReuseFactor': 1,\n",
       "   'TableSize': 1024},\n",
       "  'outputs': {'Trace': True,\n",
       "   'Precision': {'result': 'ufixed<16,8,RND_CONV,SAT>',\n",
       "    'table': 'fixed<18,8>'},\n",
       "   'ReuseFactor': 1,\n",
       "   'TableSize': 1024}}}"
      ]
     },
     "execution_count": 11,
     "metadata": {},
     "output_type": "execute_result"
    }
   ],
   "source": [
    "config"
   ]
  },
  {
   "cell_type": "code",
   "execution_count": 8,
   "id": "7ca4fcbc-0ffe-49f1-a984-7077b2ac8f76",
   "metadata": {},
   "outputs": [
    {
     "name": "stdout",
     "output_type": "stream",
     "text": [
      "Interpreting Sequential\n",
      "Topology:\n",
      "Layer name: inputs_, layer type: InputLayer, input shapes: [[None, 55296]], output shape: [None, 55296]\n",
      "Layer name: dense1, layer type: QDense, input shapes: [[None, 55296]], output shape: [None, 16]\n",
      "Layer name: relu1, layer type: Activation, input shapes: [[None, 16]], output shape: [None, 16]\n",
      "Layer name: dense2, layer type: QDense, input shapes: [[None, 16]], output shape: [None, 1]\n",
      "Layer name: outputs, layer type: Activation, input shapes: [[None, 1]], output shape: [None, 1]\n",
      "Creating HLS model\n"
     ]
    }
   ],
   "source": [
    "hls_model = hls4ml.converters.convert_from_keras_model(model,\n",
    "                                                       hls_config=config,\n",
    "                                                       io_type='io_parallel',\n",
    "                                                       output_dir=f'noQBQ_hls4mlproj')"
   ]
  },
  {
   "cell_type": "code",
   "execution_count": 9,
   "id": "cdff4e52-f032-4211-a57d-11061e3ebaa0",
   "metadata": {},
   "outputs": [],
   "source": [
    "X_flat = X.reshape((2560,-1))"
   ]
  },
  {
   "cell_type": "code",
   "execution_count": 14,
   "id": "49f6e6d3-7484-425b-984a-697c2b25d911",
   "metadata": {},
   "outputs": [
    {
     "data": {
      "text/plain": [
       "(2560, 55296)"
      ]
     },
     "execution_count": 14,
     "metadata": {},
     "output_type": "execute_result"
    }
   ],
   "source": [
    "X_flat.shape"
   ]
  },
  {
   "cell_type": "code",
   "execution_count": 10,
   "id": "6e7101be-e4a8-4bc5-b365-cd41faf5c39f",
   "metadata": {},
   "outputs": [
    {
     "name": "stdout",
     "output_type": "stream",
     "text": [
      "80/80 [==============================] - 0s 3ms/step\n"
     ]
    }
   ],
   "source": [
    "Y = model.predict(X_flat)"
   ]
  },
  {
   "cell_type": "code",
   "execution_count": 11,
   "id": "8a250694-aca7-466c-9a17-8cc5d11f722c",
   "metadata": {},
   "outputs": [
    {
     "name": "stdout",
     "output_type": "stream",
     "text": [
      "Writing HLS project\n"
     ]
    },
    {
     "name": "stderr",
     "output_type": "stream",
     "text": [
      "/Users/jackcleeve/anaconda3/envs/fastml310/lib/python3.10/site-packages/keras/src/engine/training.py:3079: UserWarning: You are saving your model as an HDF5 file via `model.save()`. This file format is considered legacy. We recommend using instead the native Keras format, e.g. `model.save('my_model.keras')`.\n",
      "  saving_api.save_model(\n"
     ]
    },
    {
     "name": "stdout",
     "output_type": "stream",
     "text": [
      "Done\n"
     ]
    }
   ],
   "source": [
    "hls_model.compile()"
   ]
  },
  {
   "cell_type": "code",
   "execution_count": 17,
   "id": "626a9f0e",
   "metadata": {},
   "outputs": [
    {
     "name": "stdout",
     "output_type": "stream",
     "text": [
      "Recompiling myproject with tracing\n",
      "Writing HLS project\n",
      "Done\n"
     ]
    }
   ],
   "source": [
    "fake_hls4ml_pred, hls4ml_trace = hls_model.trace(X)"
   ]
  },
  {
   "cell_type": "code",
   "execution_count": 12,
   "id": "bf413ebe-7181-4567-957d-31c9dbd3a5a7",
   "metadata": {},
   "outputs": [],
   "source": [
    "Y_hls = hls_model.predict(X_flat)"
   ]
  },
  {
   "cell_type": "code",
   "execution_count": 18,
   "id": "14973f13-af71-431b-8ef1-d06a248484a4",
   "metadata": {},
   "outputs": [
    {
     "data": {
      "text/plain": [
       "2560"
      ]
     },
     "execution_count": 18,
     "metadata": {},
     "output_type": "execute_result"
    }
   ],
   "source": [
    "len(Y)"
   ]
  },
  {
   "cell_type": "code",
   "execution_count": 19,
   "id": "9549ad7c-e47e-4203-bb1f-c332bc0bffe7",
   "metadata": {},
   "outputs": [
    {
     "data": {
      "text/plain": [
       "array([[ 0.        ],\n",
       "       [ 0.        ],\n",
       "       [ 0.        ],\n",
       "       [ 0.        ],\n",
       "       [ 0.        ],\n",
       "       [ 0.        ],\n",
       "       [ 0.        ],\n",
       "       [ 0.        ],\n",
       "       [ 0.        ],\n",
       "       [ 0.        ],\n",
       "       [ 0.        ],\n",
       "       [ 0.        ],\n",
       "       [ 0.        ],\n",
       "       [ 0.        ],\n",
       "       [ 0.        ],\n",
       "       [ 0.        ],\n",
       "       [ 0.        ],\n",
       "       [ 0.        ],\n",
       "       [ 0.        ],\n",
       "       [ 0.        ],\n",
       "       [ 0.        ],\n",
       "       [ 0.        ],\n",
       "       [ 0.        ],\n",
       "       [ 0.        ],\n",
       "       [ 0.        ],\n",
       "       [ 0.        ],\n",
       "       [ 0.        ],\n",
       "       [ 0.        ],\n",
       "       [ 0.        ],\n",
       "       [ 0.        ],\n",
       "       [ 0.        ],\n",
       "       [ 1.20703125],\n",
       "       [ 6.1171875 ],\n",
       "       [30.3984375 ],\n",
       "       [11.40625   ]])"
      ]
     },
     "execution_count": 19,
     "metadata": {},
     "output_type": "execute_result"
    }
   ],
   "source": [
    "Y_hls[:35]"
   ]
  },
  {
   "cell_type": "code",
   "execution_count": 13,
   "id": "ed533ec8",
   "metadata": {},
   "outputs": [],
   "source": [
    "import matplotlib.pyplot as plt"
   ]
  },
  {
   "cell_type": "code",
   "execution_count": 14,
   "id": "f0b141a3",
   "metadata": {},
   "outputs": [
    {
     "data": {
      "image/png": "[encoded data removed]",
      "text/plain": [
       "<Figure size 640x480 with 1 Axes>"
      ]
     },
     "metadata": {},
     "output_type": "display_data"
    }
   ],
   "source": [
    "plt.hist(Y_hls, bins=40, edgecolor='black')\n",
    "plt.xlabel('noqdb_seq hls model scores')\n",
    "plt.ylabel('Frequency')\n",
    "plt.title('Histogram of noqdb_seq hls model scores')\n",
    "plt.show()"
   ]
  },
  {
   "cell_type": "code",
   "execution_count": 23,
   "id": "06e77eb8",
   "metadata": {},
   "outputs": [
    {
     "data": {
      "image/png": "[encoded data removed]",
      "text/plain": [
       "<Figure size 640x480 with 1 Axes>"
      ]
     },
     "metadata": {},
     "output_type": "display_data"
    }
   ],
   "source": [
    "plt.scatter(Y_hls, Y)\n",
    "plt.xlabel('noqdb_seq hls model scores')\n",
    "plt.ylabel('noqdb_seq regular model scores')\n",
    "plt.title('noqdb_seq Score Correlation plot')\n",
    "plt.show()"
   ]
  },
  {
   "cell_type": "code",
   "execution_count": 31,
   "id": "1a5f8d4b",
   "metadata": {},
   "outputs": [
    {
     "data": {
      "image/png": "[encoded data removed]",
      "text/plain": [
       "<Figure size 1000x600 with 1 Axes>"
      ]
     },
     "metadata": {},
     "output_type": "display_data"
    }
   ],
   "source": [
    "differences = [pred1 != pred2 for pred1, pred2 in zip(Y, Y_hls)]\n",
    "\n",
    "plt.figure(figsize=(10, 6))\n",
    "plt.scatter(range(len(Y)), Y, color='blue', s=10, label='Python')\n",
    "plt.scatter(range(len(Y_hls)), Y_hls, color='green', s=10, label='hls4ml')\n",
    "\n",
    "plt.xlabel('Indecies')\n",
    "plt.ylabel('Values')\n",
    "plt.title('Python vs hls4ml Models cicada v1 10x4')\n",
    "plt.legend()\n",
    "plt.show()\n",
    "# Labels and title"
   ]
  },
  {
   "cell_type": "code",
   "execution_count": 22,
   "id": "3e2031ae-5a56-4c88-bf49-693a95008a50",
   "metadata": {},
   "outputs": [],
   "source": [
    "off_list = np.argwhere(~np.isclose(Y, Y_hls))"
   ]
  },
  {
   "cell_type": "code",
   "execution_count": 26,
   "id": "3569b2ea",
   "metadata": {},
   "outputs": [
    {
     "data": {
      "text/plain": [
       "3"
      ]
     },
     "execution_count": 26,
     "metadata": {},
     "output_type": "execute_result"
    }
   ],
   "source": [
    "len(off_list)"
   ]
  },
  {
   "cell_type": "code",
   "execution_count": 32,
   "id": "2393952a",
   "metadata": {},
   "outputs": [
    {
     "data": {
      "image/png": "[encoded data removed]",
      "text/plain": [
       "<Figure size 1000x600 with 1 Axes>"
      ]
     },
     "metadata": {},
     "output_type": "display_data"
    }
   ],
   "source": [
    "plt.figure(figsize=(10, 6))\n",
    "plt.scatter(off_list, Y[off_list], color='blue', s=10, label='Python')\n",
    "plt.scatter(off_list, Y_hls[off_list], color='green', s=10, label='hls4ml')\n",
    "\n",
    "plt.xlabel('Indecies')\n",
    "plt.ylabel('Different Values')\n",
    "plt.title('Different Values in Python vs hls4ml Models Cicada-v1 10x4')\n",
    "plt.legend()\n",
    "plt.show()"
   ]
  },
  {
   "cell_type": "code",
   "execution_count": 24,
   "id": "b76a43c2",
   "metadata": {},
   "outputs": [],
   "source": [
    "non_zero_list = np.argwhere(~np.isclose(0.0, Y_hls))"
   ]
  },
  {
   "cell_type": "code",
   "execution_count": 25,
   "id": "63de8e1c",
   "metadata": {},
   "outputs": [
    {
     "data": {
      "text/plain": [
       "214"
      ]
     },
     "execution_count": 25,
     "metadata": {},
     "output_type": "execute_result"
    }
   ],
   "source": [
    "len(non_zero_list)"
   ]
  },
  {
   "cell_type": "code",
   "execution_count": 27,
   "id": "e401f152",
   "metadata": {},
   "outputs": [
    {
     "name": "stdout",
     "output_type": "stream",
     "text": [
      "Y: \n",
      "[1.2148438]\n",
      "hls pred: \n",
      "[1.2109375]\n",
      "Y: \n",
      "[14.050781]\n",
      "hls pred: \n",
      "[14.046875]\n",
      "Y: \n",
      "[32.515625]\n",
      "hls pred: \n",
      "[32.51171875]\n"
     ]
    }
   ],
   "source": [
    "off_list_indexes = []\n",
    "for k in off_list:\n",
    "    off_list_indexes.append(k[0])\n",
    "\n",
    "for ind in off_list_indexes:\n",
    "    print(\"Y: \")\n",
    "    print(Y[ind])\n",
    "    print(\"hls pred: \")\n",
    "    print(Y_hls[ind])"
   ]
  },
  {
   "cell_type": "code",
   "execution_count": 28,
   "id": "775d6889",
   "metadata": {},
   "outputs": [
    {
     "name": "stdout",
     "output_type": "stream",
     "text": [
      "[0.00390625]\n"
     ]
    }
   ],
   "source": [
    "diff_sum=0\n",
    "for ind in off_list_indexes:\n",
    "    diff = abs(Y[ind] - Y_hls[ind])\n",
    "    diff_sum=diff_sum+diff\n",
    "diff_avg = diff_sum/len(off_list)\n",
    "print(diff_avg)"
   ]
  },
  {
   "cell_type": "code",
   "execution_count": 29,
   "id": "8bde6add",
   "metadata": {},
   "outputs": [],
   "source": [
    "diff_pct = []\n",
    "for ind in off_list_indexes:\n",
    "    diff = abs(Y[ind] - Y_hls[ind])\n",
    "    if Y[ind]==0:\n",
    "        temp_diff_pct = diff\n",
    "    else:\n",
    "        temp_diff_pct = diff/Y[ind]\n",
    "    diff_pct.append(temp_diff_pct)"
   ]
  },
  {
   "cell_type": "code",
   "execution_count": 30,
   "id": "0158f065",
   "metadata": {},
   "outputs": [
    {
     "name": "stdout",
     "output_type": "stream",
     "text": [
      "[0.00120453]\n"
     ]
    }
   ],
   "source": [
    "diff_pct_avg = sum(diff_pct)/len(diff_pct)\n",
    "print(diff_pct_avg)"
   ]
  },
  {
   "cell_type": "code",
   "execution_count": 22,
   "id": "169ef0d3-d5e4-4dcf-b19f-2af476a4360e",
   "metadata": {},
   "outputs": [
    {
     "data": {
      "text/plain": [
       "True"
      ]
     },
     "execution_count": 22,
     "metadata": {},
     "output_type": "execute_result"
    }
   ],
   "source": [
    "np.allclose(Y, Y_hls, atol=5e-3)"
   ]
  },
  {
   "cell_type": "code",
   "execution_count": 22,
   "id": "e4c2e723",
   "metadata": {},
   "outputs": [
    {
     "name": "stdout",
     "output_type": "stream",
     "text": [
      "[0. 0. 0. 0. 0. 0. 0. 0. 0. 0. 0. 0. 0. 0. 0. 0.]\n",
      "[0.]\n"
     ]
    }
   ],
   "source": [
    "print(hls4ml_trace['dense1'][0])\n",
    "print(hls4ml_trace['dense2'][0])"
   ]
  },
  {
   "cell_type": "code",
   "execution_count": 23,
   "id": "9be18b1d",
   "metadata": {},
   "outputs": [
    {
     "name": "stdout",
     "output_type": "stream",
     "text": [
      "[<qkeras.qlayers.QDense object at 0x16c59e740>, <qkeras.qlayers.QActivation object at 0x16c59f100>, <qkeras.qlayers.QDense object at 0x16c59f490>, <qkeras.qlayers.QActivation object at 0x16c59fb50>]\n",
      "[<qkeras.qlayers.QDense object at 0x16c59e740>, <qkeras.qlayers.QActivation object at 0x16c59f100>, <qkeras.qlayers.QDense object at 0x16c59f490>, <qkeras.qlayers.QActivation object at 0x16c59fb50>]\n",
      "[array([[ 5.2962517e-03, -7.1111661e-03, -9.5765125e-03, ...,\n",
      "        -1.6991718e-02, -1.8410236e-03,  7.5562634e-03],\n",
      "       [-3.9863214e-03, -1.2156497e-03, -1.0881705e-02, ...,\n",
      "        -1.0556822e-02,  6.2544383e-03, -2.2244209e-03],\n",
      "       [-1.2529541e-02, -1.0623729e-02, -5.6811143e-03, ...,\n",
      "        -9.7383959e-03,  4.8105670e-03, -1.0457798e-05],\n",
      "       ...,\n",
      "       [ 1.2660830e-02,  1.3011928e-02, -1.2195783e-02, ...,\n",
      "        -6.7703542e-03, -1.1004283e-02, -1.2729759e-02],\n",
      "       [ 2.5910765e-03,  2.6438888e-03, -3.3064559e-03, ...,\n",
      "         8.4821535e-03, -1.8312840e-03, -7.5724064e-03],\n",
      "       [-4.1954136e-03, -1.3474014e-02,  8.5461726e-03, ...,\n",
      "        -8.3318250e-03,  5.3335377e-03, -1.3160590e-02]], dtype=float32)]\n",
      "[array([[-0.49877438],\n",
      "       [-0.10772609],\n",
      "       [ 0.37439603],\n",
      "       [ 0.18817298],\n",
      "       [-0.5334333 ],\n",
      "       [-0.23828386],\n",
      "       [ 0.48073298],\n",
      "       [ 0.15045905],\n",
      "       [ 0.15809734],\n",
      "       [-0.20717552],\n",
      "       [ 0.15621372],\n",
      "       [-0.15916051],\n",
      "       [ 0.13223861],\n",
      "       [ 0.5045106 ],\n",
      "       [-0.32484284],\n",
      "       [ 0.23563966]], dtype=float32)]\n"
     ]
    }
   ],
   "source": [
    "layers = model.layers\n",
    "print(layers)\n",
    "weights_one = model.layers[0].get_weights()\n",
    "dense_weights = model.layers[2].get_weights()\n",
    "print(layers)\n",
    "print(weights_one)\n",
    "print(dense_weights)"
   ]
  },
  {
   "cell_type": "code",
   "execution_count": 24,
   "id": "4d46f26b",
   "metadata": {},
   "outputs": [
    {
     "name": "stdout",
     "output_type": "stream",
     "text": [
      "Project myproject_prj does not exist. Rerun \"hls4ml build -p noQBQ_hls4mlproj\".\n"
     ]
    },
    {
     "name": "stderr",
     "output_type": "stream",
     "text": [
      "sh: vivado_hls: command not found\n"
     ]
    }
   ],
   "source": [
    "hls_model.build(csim=False)"
   ]
  }
 ],
 "metadata": {
  "interpreter": {
   "hash": "8bef50b4ab21f090365826b88c70ccad1a24a6ce9129a4ff557590d98caaed24"
  },
  "kernelspec": {
   "display_name": "Python 3.10.14 ('fastml310')",
   "language": "python",
   "name": "python3"
  },
  "language_info": {
   "codemirror_mode": {
    "name": "ipython",
    "version": 3
   },
   "file_extension": ".py",
   "mimetype": "text/x-python",
   "name": "python",
   "nbconvert_exporter": "python",
   "pygments_lexer": "ipython3",
   "version": "3.10.14"
  }
 },
 "nbformat": 4,
 "nbformat_minor": 5
}
