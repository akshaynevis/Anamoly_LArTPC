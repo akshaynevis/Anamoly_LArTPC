{
 "cells": [
  {
   "cell_type": "markdown",
   "id": "ff38dae8",
   "metadata": {},
   "source": [
    "SETUP"
   ]
  },
  {
   "cell_type": "code",
   "execution_count": 2,
   "id": "5e97f84b-dba5-4d32-a5ae-dbcbd135994c",
   "metadata": {},
   "outputs": [],
   "source": [
    "import numpy as np\n",
    "import tensorflow as tf\n",
    "\n",
    "from tensorflow import keras\n",
    "import qkeras\n",
    "from qkeras import *"
   ]
  },
  {
   "cell_type": "code",
   "execution_count": 3,
   "id": "c70ed6b0-798d-4f08-9e9a-26ccb0c4ff73",
   "metadata": {},
   "outputs": [],
   "source": [
    "X_10x4 = np.load(\"/Users/jackcleeve/Desktop/bnb_WithWire_00_pureNu_batch_00_10X4.npy\")"
   ]
  },
  {
   "cell_type": "code",
   "execution_count": 4,
   "id": "183ee736-e707-44db-afb7-b5efde7ef163",
   "metadata": {},
   "outputs": [
    {
     "data": {
      "text/plain": [
       "(2560, 864, 64, 1)"
      ]
     },
     "execution_count": 4,
     "metadata": {},
     "output_type": "execute_result"
    }
   ],
   "source": [
    "X_10x4.shape"
   ]
  },
  {
   "cell_type": "code",
   "execution_count": 5,
   "id": "fc1fa3a1-aab5-425c-9902-4b6ff464ecc7",
   "metadata": {},
   "outputs": [],
   "source": [
    "from qkeras.utils import _add_supported_quantized_objects\n",
    "co = {}\n",
    "_add_supported_quantized_objects(co)"
   ]
  },
  {
   "cell_type": "code",
   "execution_count": 6,
   "id": "300ca51c-a055-40a8-94b1-7606ed653e4e",
   "metadata": {},
   "outputs": [
    {
     "name": "stderr",
     "output_type": "stream",
     "text": [
      "WARNING:absl:At this time, the v2.11+ optimizer `tf.keras.optimizers.RestoredOptimizer` runs slowly on M1/M2 Macs, please use the legacy Keras optimizer instead, located at `tf.keras.optimizers.legacy.RestoredOptimizer`.\n",
      "WARNING:absl:At this time, the v2.11+ optimizer `tf.keras.optimizers.Adam` runs slowly on M1/M2 Macs, please use the legacy Keras optimizer instead, located at `tf.keras.optimizers.legacy.Adam`.\n"
     ]
    },
    {
     "name": "stdout",
     "output_type": "stream",
     "text": [
      "WARNING:tensorflow:Looks like there is an object (perhaps variable or layer) that is shared between different layers/models. This may cause issues when restoring the variable values. Object: quantized_bits(16,4,1,alpha=1.0)\n"
     ]
    },
    {
     "name": "stderr",
     "output_type": "stream",
     "text": [
      "WARNING:tensorflow:Looks like there is an object (perhaps variable or layer) that is shared between different layers/models. This may cause issues when restoring the variable values. Object: quantized_bits(16,4,1,alpha=1.0)\n"
     ]
    },
    {
     "name": "stdout",
     "output_type": "stream",
     "text": [
      "WARNING:tensorflow:Looks like there is an object (perhaps variable or layer) that is shared between different layers/models. This may cause issues when restoring the variable values. Object: quantized_bits(16,4,1,alpha=1.0)\n"
     ]
    },
    {
     "name": "stderr",
     "output_type": "stream",
     "text": [
      "WARNING:tensorflow:Looks like there is an object (perhaps variable or layer) that is shared between different layers/models. This may cause issues when restoring the variable values. Object: quantized_bits(16,4,1,alpha=1.0)\n",
      "WARNING:absl:At this time, the v2.11+ optimizer `tf.keras.optimizers.RestoredOptimizer` runs slowly on M1/M2 Macs, please use the legacy Keras optimizer instead, located at `tf.keras.optimizers.legacy.RestoredOptimizer`.\n",
      "WARNING:absl:At this time, the v2.11+ optimizer `tf.keras.optimizers.Adam` runs slowly on M1/M2 Macs, please use the legacy Keras optimizer instead, located at `tf.keras.optimizers.legacy.Adam`.\n",
      "WARNING:absl:At this time, the v2.11+ optimizer `tf.keras.optimizers.RestoredOptimizer` runs slowly on M1/M2 Macs, please use the legacy Keras optimizer instead, located at `tf.keras.optimizers.legacy.RestoredOptimizer`.\n",
      "WARNING:absl:At this time, the v2.11+ optimizer `tf.keras.optimizers.Adam` runs slowly on M1/M2 Macs, please use the legacy Keras optimizer instead, located at `tf.keras.optimizers.legacy.Adam`.\n"
     ]
    },
    {
     "name": "stdout",
     "output_type": "stream",
     "text": [
      "WARNING:tensorflow:Looks like there is an object (perhaps variable or layer) that is shared between different layers/models. This may cause issues when restoring the variable values. Object: quantized_bits(16,4,1,alpha='auto')\n"
     ]
    },
    {
     "name": "stderr",
     "output_type": "stream",
     "text": [
      "WARNING:tensorflow:Looks like there is an object (perhaps variable or layer) that is shared between different layers/models. This may cause issues when restoring the variable values. Object: quantized_bits(16,4,1,alpha='auto')\n"
     ]
    },
    {
     "name": "stdout",
     "output_type": "stream",
     "text": [
      "WARNING:tensorflow:Looks like there is an object (perhaps variable or layer) that is shared between different layers/models. This may cause issues when restoring the variable values. Object: quantized_bits(16,4,1,alpha='auto')\n"
     ]
    },
    {
     "name": "stderr",
     "output_type": "stream",
     "text": [
      "WARNING:tensorflow:Looks like there is an object (perhaps variable or layer) that is shared between different layers/models. This may cause issues when restoring the variable values. Object: quantized_bits(16,4,1,alpha='auto')\n",
      "WARNING:absl:At this time, the v2.11+ optimizer `tf.keras.optimizers.RestoredOptimizer` runs slowly on M1/M2 Macs, please use the legacy Keras optimizer instead, located at `tf.keras.optimizers.legacy.RestoredOptimizer`.\n",
      "WARNING:absl:At this time, the v2.11+ optimizer `tf.keras.optimizers.Adam` runs slowly on M1/M2 Macs, please use the legacy Keras optimizer instead, located at `tf.keras.optimizers.legacy.Adam`.\n"
     ]
    },
    {
     "name": "stdout",
     "output_type": "stream",
     "text": [
      "WARNING:tensorflow:Looks like there is an object (perhaps variable or layer) that is shared between different layers/models. This may cause issues when restoring the variable values. Object: quantized_bits(16,4,1,alpha='auto')\n"
     ]
    },
    {
     "name": "stderr",
     "output_type": "stream",
     "text": [
      "WARNING:tensorflow:Looks like there is an object (perhaps variable or layer) that is shared between different layers/models. This may cause issues when restoring the variable values. Object: quantized_bits(16,4,1,alpha='auto')\n"
     ]
    },
    {
     "name": "stdout",
     "output_type": "stream",
     "text": [
      "WARNING:tensorflow:Looks like there is an object (perhaps variable or layer) that is shared between different layers/models. This may cause issues when restoring the variable values. Object: quantized_bits(16,4,1,alpha='auto')\n"
     ]
    },
    {
     "name": "stderr",
     "output_type": "stream",
     "text": [
      "WARNING:tensorflow:Looks like there is an object (perhaps variable or layer) that is shared between different layers/models. This may cause issues when restoring the variable values. Object: quantized_bits(16,4,1,alpha='auto')\n",
      "WARNING:absl:At this time, the v2.11+ optimizer `tf.keras.optimizers.RestoredOptimizer` runs slowly on M1/M2 Macs, please use the legacy Keras optimizer instead, located at `tf.keras.optimizers.legacy.RestoredOptimizer`.\n",
      "WARNING:absl:At this time, the v2.11+ optimizer `tf.keras.optimizers.Adam` runs slowly on M1/M2 Macs, please use the legacy Keras optimizer instead, located at `tf.keras.optimizers.legacy.Adam`.\n"
     ]
    }
   ],
   "source": [
    "#model = keras.models.load_model(\"noQDB_seq\", custom_objects=co)\n",
    "teacher = keras.models.load_model('/Users/jackcleeve/Desktop/Research/Karagiorgi-Lab/Cicada_Models/teacher_10X4')\n",
    "student_seq = qkeras.utils.load_qmodel('/Users/jackcleeve/Desktop/Research/Karagiorgi-Lab/Cicada_Models/student_sequential_10X4')\n",
    "noqdb =  keras.models.load_model(\"/Users/jackcleeve/Desktop/Research/Karagiorgi-Lab/Cicada_Models/noQDB_seq\", custom_objects=co)\n",
    "cicada_2 = qkeras.utils.load_qmodel('/Users/jackcleeve/Desktop/Research/Karagiorgi-Lab/Cicada_Models/Cicada2_tiles10X4_full17')\n",
    "cicada_3 = qkeras.utils.load_qmodel('/Users/jackcleeve/Desktop/Research/Karagiorgi-Lab/Cicada_Models/Cicada3_tiles10X4')"
   ]
  },
  {
   "cell_type": "code",
   "execution_count": 7,
   "id": "cd20ab46-f181-4c4f-b699-259722ee25c4",
   "metadata": {},
   "outputs": [],
   "source": [
    "import hls4ml\n",
    "import QDenseBatchnorm\n"
   ]
  },
  {
   "cell_type": "code",
   "execution_count": 8,
   "id": "f632c66c-a3aa-499b-b37d-ea530dcd54a3",
   "metadata": {},
   "outputs": [
    {
     "name": "stdout",
     "output_type": "stream",
     "text": [
      "Interpreting Sequential\n",
      "Topology:\n",
      "Layer name: reshape_input, layer type: InputLayer, input shapes: [[None, 55296]], output shape: [None, 55296]\n",
      "Layer name: reshape, layer type: Reshape, input shapes: [[None, 55296]], output shape: [None, 864, 64, 1]\n",
      "Layer name: conv, layer type: QConv2D, input shapes: [[None, 864, 64, 1]], output shape: [None, 432, 32, 4]\n",
      "Layer name: relu0, layer type: Activation, input shapes: [[None, 432, 32, 4]], output shape: [None, 432, 32, 4]\n",
      "Layer name: flatten, layer type: Reshape, input shapes: [[None, 432, 32, 4]], output shape: [None, 55296]\n",
      "Layer name: dense1, layer type: QDenseBatchnorm, input shapes: [[None, 55296]], output shape: [None, 16]\n",
      "Layer name: relu1, layer type: Activation, input shapes: [[None, 16]], output shape: [None, 16]\n",
      "Layer name: dense2, layer type: QDense, input shapes: [[None, 16]], output shape: [None, 1]\n",
      "Layer name: outputs, layer type: Activation, input shapes: [[None, 1]], output shape: [None, 1]\n"
     ]
    },
    {
     "name": "stderr",
     "output_type": "stream",
     "text": [
      "/Users/jackcleeve/anaconda3/envs/fastml310/lib/python3.10/site-packages/keras/src/constraints.py:365: UserWarning: The `keras.constraints.serialize()` API should only be used for objects of type `keras.constraints.Constraint`. Found an instance of type <class 'qkeras.quantizers.quantized_bits'>, which may lead to improper serialization.\n",
      "  warnings.warn(\n"
     ]
    }
   ],
   "source": [
    "student_seq_config = hls4ml.utils.config_from_keras_model(student_seq, backend='Vitis', \n",
    "                                              default_precision='fixed<32,16>',\n",
    "                                              granularity='name')"
   ]
  },
  {
   "cell_type": "code",
   "execution_count": 9,
   "id": "beed20c8",
   "metadata": {},
   "outputs": [
    {
     "name": "stdout",
     "output_type": "stream",
     "text": [
      "Interpreting Sequential\n",
      "Topology:\n",
      "Layer name: inputs_, layer type: InputLayer, input shapes: [[None, 55296]], output shape: [None, 55296]\n",
      "Layer name: dense1, layer type: QDense, input shapes: [[None, 55296]], output shape: [None, 16]\n",
      "Layer name: relu1, layer type: Activation, input shapes: [[None, 16]], output shape: [None, 16]\n",
      "Layer name: dense2, layer type: QDense, input shapes: [[None, 16]], output shape: [None, 1]\n",
      "Layer name: outputs, layer type: Activation, input shapes: [[None, 1]], output shape: [None, 1]\n"
     ]
    }
   ],
   "source": [
    "noqdb_config = hls4ml.utils.config_from_keras_model(noqdb, backend='Vitis', \n",
    "                                              default_precision='fixed<32,16>',\n",
    "                                              granularity='name')"
   ]
  },
  {
   "cell_type": "code",
   "execution_count": 10,
   "id": "227ab233",
   "metadata": {},
   "outputs": [
    {
     "name": "stdout",
     "output_type": "stream",
     "text": [
      "Interpreting Model\n",
      "Topology:\n",
      "Layer name: inputs_, layer type: InputLayer, input shapes: [[None, 55296]], output shape: [None, 55296]\n",
      "Layer name: reshape, layer type: Reshape, input shapes: [[None, 55296]], output shape: [None, 864, 64, 1]\n",
      "Layer name: conv, layer type: QConv2D, input shapes: [[None, 864, 64, 1]], output shape: [None, 432, 32, 4]\n",
      "Layer name: relu0, layer type: Activation, input shapes: [[None, 432, 32, 4]], output shape: [None, 432, 32, 4]\n",
      "Layer name: flatten, layer type: Reshape, input shapes: [[None, 432, 32, 4]], output shape: [None, 55296]\n",
      "Layer name: dense1, layer type: QDense, input shapes: [[None, 55296]], output shape: [None, 16]\n",
      "Layer name: relu1, layer type: Activation, input shapes: [[None, 16]], output shape: [None, 16]\n",
      "Layer name: dense2, layer type: QDense, input shapes: [[None, 16]], output shape: [None, 1]\n",
      "Layer name: outputs, layer type: Activation, input shapes: [[None, 1]], output shape: [None, 1]\n"
     ]
    }
   ],
   "source": [
    "c2_config = hls4ml.utils.config_from_keras_model(cicada_2, backend='Vitis', \n",
    "                                              default_precision='fixed<32,16>',\n",
    "                                              granularity='name')"
   ]
  },
  {
   "cell_type": "code",
   "execution_count": 11,
   "id": "db40b13d",
   "metadata": {},
   "outputs": [
    {
     "name": "stdout",
     "output_type": "stream",
     "text": [
      "Interpreting Model\n",
      "Topology:\n",
      "Layer name: inputs_, layer type: InputLayer, input shapes: [[None, 55296]], output shape: [None, 55296]\n",
      "Layer name: reshape, layer type: Reshape, input shapes: [[None, 55296]], output shape: [None, 864, 64, 1]\n",
      "Layer name: conv, layer type: QConv2D, input shapes: [[None, 864, 64, 1]], output shape: [None, 432, 32, 4]\n",
      "Layer name: relu0, layer type: Activation, input shapes: [[None, 432, 32, 4]], output shape: [None, 432, 32, 4]\n",
      "Layer name: flatten, layer type: Reshape, input shapes: [[None, 432, 32, 4]], output shape: [None, 55296]\n",
      "Layer name: dense1, layer type: QDense, input shapes: [[None, 55296]], output shape: [None, 16]\n",
      "Layer name: relu1, layer type: Activation, input shapes: [[None, 16]], output shape: [None, 16]\n",
      "Layer name: dense2, layer type: QDense, input shapes: [[None, 16]], output shape: [None, 1]\n",
      "Layer name: outputs, layer type: Activation, input shapes: [[None, 1]], output shape: [None, 1]\n"
     ]
    }
   ],
   "source": [
    "c3_config = hls4ml.utils.config_from_keras_model(cicada_3, backend='Vitis', \n",
    "                                              default_precision='fixed<32,16>',\n",
    "                                              granularity='name')"
   ]
  },
  {
   "cell_type": "code",
   "execution_count": 12,
   "id": "35fe44b8",
   "metadata": {},
   "outputs": [
    {
     "ename": "TypeError",
     "evalue": "'Functional' object is not subscriptable",
     "output_type": "error",
     "traceback": [
      "\u001b[0;31m---------------------------------------------------------------------------\u001b[0m",
      "\u001b[0;31mTypeError\u001b[0m                                 Traceback (most recent call last)",
      "Cell \u001b[0;32mIn[12], line 5\u001b[0m\n\u001b[1;32m      3\u001b[0m \u001b[38;5;28;01mfor\u001b[39;00m layer \u001b[38;5;129;01min\u001b[39;00m noqdb_config[\u001b[38;5;124m'\u001b[39m\u001b[38;5;124mLayerName\u001b[39m\u001b[38;5;124m'\u001b[39m]\u001b[38;5;241m.\u001b[39mkeys():\n\u001b[1;32m      4\u001b[0m     noqdb_config[\u001b[38;5;124m'\u001b[39m\u001b[38;5;124mLayerName\u001b[39m\u001b[38;5;124m'\u001b[39m][layer][\u001b[38;5;124m'\u001b[39m\u001b[38;5;124mTrace\u001b[39m\u001b[38;5;124m'\u001b[39m] \u001b[38;5;241m=\u001b[39m \u001b[38;5;28;01mTrue\u001b[39;00m\n\u001b[0;32m----> 5\u001b[0m \u001b[38;5;28;01mfor\u001b[39;00m layer \u001b[38;5;129;01min\u001b[39;00m \u001b[43mcicada_2\u001b[49m\u001b[43m[\u001b[49m\u001b[38;5;124;43m'\u001b[39;49m\u001b[38;5;124;43mLayerName\u001b[39;49m\u001b[38;5;124;43m'\u001b[39;49m\u001b[43m]\u001b[49m\u001b[38;5;241m.\u001b[39mkeys():\n\u001b[1;32m      6\u001b[0m     cicada_2[\u001b[38;5;124m'\u001b[39m\u001b[38;5;124mLayerName\u001b[39m\u001b[38;5;124m'\u001b[39m][layer][\u001b[38;5;124m'\u001b[39m\u001b[38;5;124mTrace\u001b[39m\u001b[38;5;124m'\u001b[39m] \u001b[38;5;241m=\u001b[39m \u001b[38;5;28;01mTrue\u001b[39;00m\n\u001b[1;32m      7\u001b[0m \u001b[38;5;28;01mfor\u001b[39;00m layer \u001b[38;5;129;01min\u001b[39;00m cicada_3[\u001b[38;5;124m'\u001b[39m\u001b[38;5;124mLayerName\u001b[39m\u001b[38;5;124m'\u001b[39m]\u001b[38;5;241m.\u001b[39mkeys():\n",
      "\u001b[0;31mTypeError\u001b[0m: 'Functional' object is not subscriptable"
     ]
    }
   ],
   "source": [
    "for layer in student_seq_config['LayerName'].keys():\n",
    "    student_seq_config['LayerName'][layer]['Trace'] = True\n",
    "for layer in noqdb_config['LayerName'].keys():\n",
    "    noqdb_config['LayerName'][layer]['Trace'] = True\n",
    "for layer in cicada_2['LayerName'].keys():\n",
    "    cicada_2['LayerName'][layer]['Trace'] = True\n",
    "for layer in cicada_3['LayerName'].keys():\n",
    "    cicada_3['LayerName'][layer]['Trace'] = True"
   ]
  },
  {
   "cell_type": "code",
   "execution_count": 13,
   "id": "7ca4fcbc-0ffe-49f1-a984-7077b2ac8f76",
   "metadata": {},
   "outputs": [
    {
     "name": "stdout",
     "output_type": "stream",
     "text": [
      "Interpreting Sequential\n",
      "Topology:\n",
      "Layer name: reshape_input, layer type: InputLayer, input shapes: [[None, 55296]], output shape: [None, 55296]\n",
      "Layer name: reshape, layer type: Reshape, input shapes: [[None, 55296]], output shape: [None, 864, 64, 1]\n",
      "Layer name: conv, layer type: QConv2D, input shapes: [[None, 864, 64, 1]], output shape: [None, 432, 32, 4]\n",
      "Layer name: relu0, layer type: Activation, input shapes: [[None, 432, 32, 4]], output shape: [None, 432, 32, 4]\n",
      "Layer name: flatten, layer type: Reshape, input shapes: [[None, 432, 32, 4]], output shape: [None, 55296]\n",
      "Layer name: dense1, layer type: QDenseBatchnorm, input shapes: [[None, 55296]], output shape: [None, 16]\n",
      "Layer name: relu1, layer type: Activation, input shapes: [[None, 16]], output shape: [None, 16]\n",
      "Layer name: dense2, layer type: QDense, input shapes: [[None, 16]], output shape: [None, 1]\n",
      "Layer name: outputs, layer type: Activation, input shapes: [[None, 1]], output shape: [None, 1]\n",
      "Creating HLS model\n",
      "WARNING: Layer conv requires \"dataflow\" pipeline style. Switching to \"dataflow\" pipeline style.\n"
     ]
    }
   ],
   "source": [
    "hls_model_ss = hls4ml.converters.convert_from_keras_model(student_seq,\n",
    "                                                       hls_config=student_seq_config,\n",
    "                                                       io_type='io_parallel',\n",
    "                                                       output_dir=f'complex_hls4mlproj')"
   ]
  },
  {
   "cell_type": "code",
   "execution_count": 14,
   "id": "a775ad40",
   "metadata": {},
   "outputs": [
    {
     "name": "stdout",
     "output_type": "stream",
     "text": [
      "Interpreting Sequential\n",
      "Topology:\n",
      "Layer name: inputs_, layer type: InputLayer, input shapes: [[None, 55296]], output shape: [None, 55296]\n",
      "Layer name: dense1, layer type: QDense, input shapes: [[None, 55296]], output shape: [None, 16]\n",
      "Layer name: relu1, layer type: Activation, input shapes: [[None, 16]], output shape: [None, 16]\n",
      "Layer name: dense2, layer type: QDense, input shapes: [[None, 16]], output shape: [None, 1]\n",
      "Layer name: outputs, layer type: Activation, input shapes: [[None, 1]], output shape: [None, 1]\n",
      "Creating HLS model\n"
     ]
    }
   ],
   "source": [
    "hls_model_noqdb = hls4ml.converters.convert_from_keras_model(noqdb,\n",
    "                                                       hls_config=noqdb_config,\n",
    "                                                       io_type='io_parallel',\n",
    "                                                       output_dir=f'noQBQ_hls4mlproj')"
   ]
  },
  {
   "cell_type": "code",
   "execution_count": 15,
   "id": "9225b3e9",
   "metadata": {},
   "outputs": [
    {
     "name": "stdout",
     "output_type": "stream",
     "text": [
      "Interpreting Model\n",
      "Topology:\n",
      "Layer name: inputs_, layer type: InputLayer, input shapes: [[None, 55296]], output shape: [None, 55296]\n",
      "Layer name: reshape, layer type: Reshape, input shapes: [[None, 55296]], output shape: [None, 864, 64, 1]\n",
      "Layer name: conv, layer type: QConv2D, input shapes: [[None, 864, 64, 1]], output shape: [None, 432, 32, 4]\n",
      "Layer name: relu0, layer type: Activation, input shapes: [[None, 432, 32, 4]], output shape: [None, 432, 32, 4]\n",
      "Layer name: flatten, layer type: Reshape, input shapes: [[None, 432, 32, 4]], output shape: [None, 55296]\n",
      "Layer name: dense1, layer type: QDense, input shapes: [[None, 55296]], output shape: [None, 16]\n",
      "Layer name: relu1, layer type: Activation, input shapes: [[None, 16]], output shape: [None, 16]\n",
      "Layer name: dense2, layer type: QDense, input shapes: [[None, 16]], output shape: [None, 1]\n",
      "Layer name: outputs, layer type: Activation, input shapes: [[None, 1]], output shape: [None, 1]\n",
      "Creating HLS model\n",
      "WARNING: Layer conv requires \"dataflow\" pipeline style. Switching to \"dataflow\" pipeline style.\n"
     ]
    }
   ],
   "source": [
    "hls_model_c2 = hls4ml.converters.convert_from_keras_model(cicada_2,\n",
    "                                                       hls_config=c2_config,\n",
    "                                                       io_type='io_parallel',\n",
    "                                                       output_dir=f'cicada2_10x4_hls4mlproj')"
   ]
  },
  {
   "cell_type": "code",
   "execution_count": 16,
   "id": "c67d532d",
   "metadata": {},
   "outputs": [
    {
     "name": "stdout",
     "output_type": "stream",
     "text": [
      "Interpreting Model\n",
      "Topology:\n",
      "Layer name: inputs_, layer type: InputLayer, input shapes: [[None, 55296]], output shape: [None, 55296]\n",
      "Layer name: reshape, layer type: Reshape, input shapes: [[None, 55296]], output shape: [None, 864, 64, 1]\n",
      "Layer name: conv, layer type: QConv2D, input shapes: [[None, 864, 64, 1]], output shape: [None, 432, 32, 4]\n",
      "Layer name: relu0, layer type: Activation, input shapes: [[None, 432, 32, 4]], output shape: [None, 432, 32, 4]\n",
      "Layer name: flatten, layer type: Reshape, input shapes: [[None, 432, 32, 4]], output shape: [None, 55296]\n",
      "Layer name: dense1, layer type: QDense, input shapes: [[None, 55296]], output shape: [None, 16]\n",
      "Layer name: relu1, layer type: Activation, input shapes: [[None, 16]], output shape: [None, 16]\n",
      "Layer name: dense2, layer type: QDense, input shapes: [[None, 16]], output shape: [None, 1]\n",
      "Layer name: outputs, layer type: Activation, input shapes: [[None, 1]], output shape: [None, 1]\n",
      "Creating HLS model\n",
      "WARNING: Layer conv requires \"dataflow\" pipeline style. Switching to \"dataflow\" pipeline style.\n"
     ]
    }
   ],
   "source": [
    "hls_model_c3 = hls4ml.converters.convert_from_keras_model(cicada_3,\n",
    "                                                       hls_config=c3_config,\n",
    "                                                       io_type='io_parallel',\n",
    "                                                       output_dir=f'cicada3_10x4_hls4mlproj')"
   ]
  },
  {
   "cell_type": "code",
   "execution_count": 17,
   "id": "cdff4e52-f032-4211-a57d-11061e3ebaa0",
   "metadata": {},
   "outputs": [],
   "source": [
    "X_flat = X_10x4.reshape((2560,-1))"
   ]
  },
  {
   "cell_type": "code",
   "execution_count": 18,
   "id": "49f6e6d3-7484-425b-984a-697c2b25d911",
   "metadata": {},
   "outputs": [
    {
     "data": {
      "text/plain": [
       "(2560, 55296)"
      ]
     },
     "execution_count": 18,
     "metadata": {},
     "output_type": "execute_result"
    }
   ],
   "source": [
    "X_flat.shape"
   ]
  },
  {
   "cell_type": "code",
   "execution_count": 19,
   "id": "e942c113",
   "metadata": {},
   "outputs": [
    {
     "name": "stdout",
     "output_type": "stream",
     "text": [
      "INFO:tensorflow:Using MirroredStrategy with devices ('/job:localhost/replica:0/task:0/device:CPU:0',)\n"
     ]
    },
    {
     "name": "stderr",
     "output_type": "stream",
     "text": [
      "INFO:tensorflow:Using MirroredStrategy with devices ('/job:localhost/replica:0/task:0/device:CPU:0',)\n"
     ]
    },
    {
     "name": "stdout",
     "output_type": "stream",
     "text": [
      "Number of devices: 1\n"
     ]
    }
   ],
   "source": [
    "def loss(y_true, y_pred, choice):\n",
    "    if choice == 'mse':\n",
    "        loss = np.mean((y_true - y_pred)**2, axis = (1,2,3))\n",
    "        return loss\n",
    "\n",
    "ntimeticks = 6400\n",
    "nwire = 3456\n",
    "f_downsample = 10\n",
    "h_split = 10\n",
    "v_split = 4\n",
    "nbatch = 32\n",
    "\n",
    "strategy = tf.distribute.MirroredStrategy()\n",
    "print(\"Number of devices: {}\".format(strategy.num_replicas_in_sync))\n",
    "\n",
    "adccutoff = 10.*f_downsample/10.\n",
    "adcsaturation = 100.*f_downsample/10."
   ]
  },
  {
   "cell_type": "markdown",
   "id": "3c3e103e",
   "metadata": {},
   "source": [
    "COMPILING AND PREDICTING"
   ]
  },
  {
   "cell_type": "code",
   "execution_count": 20,
   "id": "b052b80a",
   "metadata": {},
   "outputs": [
    {
     "name": "stdout",
     "output_type": "stream",
     "text": [
      "80/80 [==============================] - 0s 3ms/step\n"
     ]
    }
   ],
   "source": [
    "Y_qdb = noqdb.predict(X_flat)"
   ]
  },
  {
   "cell_type": "code",
   "execution_count": 22,
   "id": "6e7101be-e4a8-4bc5-b365-cd41faf5c39f",
   "metadata": {},
   "outputs": [
    {
     "name": "stdout",
     "output_type": "stream",
     "text": [
      "80/80 [==============================] - 24s 303ms/step\n",
      "80/80 [==============================] - 1s 10ms/step\n",
      "80/80 [==============================] - 1s 10ms/step\n",
      "80/80 [==============================] - 1s 10ms/step\n"
     ]
    }
   ],
   "source": [
    "#Y = student_test.predict(X_flat)\n",
    "\n",
    "X_predict_teacher = teacher.predict(X_10x4)\n",
    "X_loss_teacher = loss(X_10x4, X_predict_teacher, 'mse')\n",
    "X_student = X_10x4.reshape((-1,nwire*ntimeticks//f_downsample//v_split//h_split,1))\n",
    "\n",
    "Y_ss = student_seq.predict(X_student).reshape(len(X_loss_teacher))\n",
    "Y_c2 = cicada_2.predict(X_student).reshape(len(X_loss_teacher))\n",
    "Y_c3 = cicada_3.predict(X_student).reshape(len(X_loss_teacher))\n"
   ]
  },
  {
   "cell_type": "code",
   "execution_count": 23,
   "id": "8a250694-aca7-466c-9a17-8cc5d11f722c",
   "metadata": {},
   "outputs": [
    {
     "name": "stdout",
     "output_type": "stream",
     "text": [
      "Writing HLS project\n"
     ]
    },
    {
     "name": "stderr",
     "output_type": "stream",
     "text": [
      "/Users/jackcleeve/anaconda3/envs/fastml310/lib/python3.10/site-packages/keras/src/engine/training.py:3079: UserWarning: You are saving your model as an HDF5 file via `model.save()`. This file format is considered legacy. We recommend using instead the native Keras format, e.g. `model.save('my_model.keras')`.\n",
      "  saving_api.save_model(\n",
      "/Users/jackcleeve/anaconda3/envs/fastml310/lib/python3.10/site-packages/keras/src/constraints.py:365: UserWarning: The `keras.constraints.serialize()` API should only be used for objects of type `keras.constraints.Constraint`. Found an instance of type <class 'qkeras.quantizers.quantized_bits'>, which may lead to improper serialization.\n",
      "  warnings.warn(\n"
     ]
    },
    {
     "name": "stdout",
     "output_type": "stream",
     "text": [
      "Done\n",
      "Writing HLS project\n",
      "Done\n",
      "Writing HLS project\n",
      "Done\n",
      "Writing HLS project\n",
      "Done\n"
     ]
    }
   ],
   "source": [
    "hls_model_ss.compile()\n",
    "hls_model_noqdb.compile()\n",
    "hls_model_c2.compile()\n",
    "hls_model_c3.compile()"
   ]
  },
  {
   "cell_type": "code",
   "execution_count": 24,
   "id": "bf413ebe-7181-4567-957d-31c9dbd3a5a7",
   "metadata": {},
   "outputs": [],
   "source": [
    "Y_hls_ss = hls_model_ss.predict(np.ascontiguousarray(X_10x4.reshape((-1,nwire*ntimeticks//f_downsample//v_split//h_split,1)))).reshape(len(X_loss_teacher))"
   ]
  },
  {
   "cell_type": "code",
   "execution_count": 25,
   "id": "7f0482b2",
   "metadata": {},
   "outputs": [],
   "source": [
    "Y_hls_noqbd = hls_model_noqdb.predict(X_flat)"
   ]
  },
  {
   "cell_type": "code",
   "execution_count": 26,
   "id": "72449b5c",
   "metadata": {},
   "outputs": [],
   "source": [
    "Y_hls_c2 = hls_model_c2.predict(np.ascontiguousarray(X_10x4.reshape((-1,nwire*ntimeticks//f_downsample//v_split//h_split,1)))).reshape(len(X_loss_teacher))"
   ]
  },
  {
   "cell_type": "code",
   "execution_count": 27,
   "id": "37c4f47c",
   "metadata": {},
   "outputs": [],
   "source": [
    "Y_hls_c3 = hls_model_c3.predict(np.ascontiguousarray(X_10x4.reshape((-1,nwire*ntimeticks//f_downsample//v_split//h_split,1)))).reshape(len(X_loss_teacher))"
   ]
  },
  {
   "cell_type": "markdown",
   "id": "1b6f186d",
   "metadata": {},
   "source": [
    "RESULTS"
   ]
  },
  {
   "cell_type": "code",
   "execution_count": 28,
   "id": "5ecc2ef1",
   "metadata": {},
   "outputs": [],
   "source": [
    "import matplotlib.pyplot as plt"
   ]
  },
  {
   "cell_type": "code",
   "execution_count": 29,
   "id": "396381d6",
   "metadata": {},
   "outputs": [],
   "source": [
    "y_hls_all = Y_hls_ss+Y_hls_noqbd+Y_hls_c2+Y_hls_c3"
   ]
  },
  {
   "cell_type": "code",
   "execution_count": 31,
   "id": "97f942b9",
   "metadata": {},
   "outputs": [
    {
     "data": {
      "image/png": "[encoded data removed]",
      "text/plain": [
       "<Figure size 640x480 with 1 Axes>"
      ]
     },
     "metadata": {},
     "output_type": "display_data"
    }
   ],
   "source": [
    "plt.hist(y_hls_all, bins=40, edgecolor='black')\n",
    "plt.xlabel('all 10x4 hls model scores')\n",
    "plt.ylabel('Frequency')\n",
    "plt.title('Histogram of all 10x4 hls model scores')\n",
    "plt.show()"
   ]
  },
  {
   "cell_type": "code",
   "execution_count": 34,
   "id": "c5f4f82a",
   "metadata": {},
   "outputs": [
    {
     "data": {
      "image/png": "[encoded data removed]",
      "text/plain": [
       "<Figure size 640x480 with 1 Axes>"
      ]
     },
     "metadata": {},
     "output_type": "display_data"
    }
   ],
   "source": [
    "plt.scatter(Y_hls_ss, Y_ss, s=5, color=\"blue\", label='ss')\n",
    "plt.scatter(Y_hls_noqbd, Y_qdb, s=5, color=\"red\", label=\"noqdb\")\n",
    "plt.scatter(Y_hls_c2, Y_c2, s=5, color=\"green\", label=\"c2\")\n",
    "plt.scatter(Y_hls_c3, Y_c3, s=5, color=\"purple\", label=\"c3\")\n",
    "\n",
    "plt.xlabel('10x4 hls model scores')\n",
    "plt.ylabel('10x4 regular model scores')\n",
    "plt.title('10x4 all models Score Correlation plot')\n",
    "plt.legend()\n",
    "plt.show()"
   ]
  }
 ],
 "metadata": {
  "interpreter": {
   "hash": "8bef50b4ab21f090365826b88c70ccad1a24a6ce9129a4ff557590d98caaed24"
  },
  "kernelspec": {
   "display_name": "Python 3.10.14 ('fastml310')",
   "language": "python",
   "name": "python3"
  },
  "language_info": {
   "codemirror_mode": {
    "name": "ipython",
    "version": 3
   },
   "file_extension": ".py",
   "mimetype": "text/x-python",
   "name": "python",
   "nbconvert_exporter": "python",
   "pygments_lexer": "ipython3",
   "version": "3.10.14"
  }
 },
 "nbformat": 4,
 "nbformat_minor": 5
}
